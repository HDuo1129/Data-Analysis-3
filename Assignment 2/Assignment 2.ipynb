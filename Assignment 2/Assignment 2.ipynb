{
 "cells": [
  {
   "cell_type": "code",
   "execution_count": 42,
   "id": "98e3ac1c-87cb-4cf6-97b9-3e3d55ee19dc",
   "metadata": {},
   "outputs": [],
   "source": [
    "import requests\n",
    "import gzip\n",
    "import shutil\n",
    "import pandas as pd\n",
    "from geopy.distance import geodesic"
   ]
  },
  {
   "cell_type": "markdown",
   "id": "d6940692-ed32-4637-80e9-60f5de350cd5",
   "metadata": {},
   "source": [
    "## Data Upload"
   ]
  },
  {
   "cell_type": "markdown",
   "id": "c20c6c15-f38e-4e0e-9428-41fdc2e2e6af",
   "metadata": {
    "jp-MarkdownHeadingCollapsed": true
   },
   "source": [
    "### Tokyo Q3 Data Upload"
   ]
  },
  {
   "cell_type": "code",
   "execution_count": 14,
   "id": "de756a46-8aae-475c-82ae-9863c4ddda38",
   "metadata": {},
   "outputs": [],
   "source": [
    "url = \"https://github.com/HDuo1129/Data-Analysis-3/raw/main/Assignment%202/Dataset/Tokyo/2024%20Q3/listings.csv.gz\"\n",
    "file_path = \"listings.csv.gz\"\n",
    "\n",
    "response = requests.get(url)\n",
    "with open(file_path, \"wb\") as f:\n",
    "    f.write(response.content)\n",
    "\n",
    "with gzip.open(\"listings.csv.gz\", \"rb\") as f_in:\n",
    "    with open(\"listings.csv\", \"wb\") as f_out:\n",
    "        shutil.copyfileobj(f_in, f_out)"
   ]
  },
  {
   "cell_type": "code",
   "execution_count": 15,
   "id": "5c0ebe6e-6681-467c-ad67-7aafa8801340",
   "metadata": {},
   "outputs": [
    {
     "name": "stdout",
     "output_type": "stream",
     "text": [
      "        id                           listing_url       scrape_id last_scraped  \\\n",
      "0   197677   https://www.airbnb.com/rooms/197677  20240927024131   2024-09-27   \n",
      "1   776070   https://www.airbnb.com/rooms/776070  20240927024131   2024-09-27   \n",
      "2   905944   https://www.airbnb.com/rooms/905944  20240927024131   2024-09-27   \n",
      "3  1016831  https://www.airbnb.com/rooms/1016831  20240927024131   2024-09-27   \n",
      "4  1196177  https://www.airbnb.com/rooms/1196177  20240927024131   2024-09-27   \n",
      "\n",
      "        source                                               name  \\\n",
      "0  city scrape                          Oshiage Holiday Apartment   \n",
      "1  city scrape                             Kero-kero house room 1   \n",
      "2  city scrape  4F Spacious Apartment in Shinjuku / Shibuya Tokyo   \n",
      "3  city scrape         5 mins Shibuya Cat modern sunny  Shimokita   \n",
      "4  city scrape        Stay with host Cozy private room Senju area   \n",
      "\n",
      "                                         description  \\\n",
      "0                                                NaN   \n",
      "1  We have been in airbnb since 2011 and it has g...   \n",
      "2  NEWLY RENOVATED property entirely for you & yo...   \n",
      "3  Hi there, I am Wakana and I live with my two f...   \n",
      "4  Ｓtay with host.We can help your travel.<br />B...   \n",
      "\n",
      "                               neighborhood_overview  \\\n",
      "0                                                NaN   \n",
      "1  We love Nishinippori because is nearer to Toky...   \n",
      "2  Hatagaya is a great neighborhood located 4 min...   \n",
      "3  The location is walkable distance to famous Sh...   \n",
      "4  There are shopping mall near Senjuohashi stati...   \n",
      "\n",
      "                                         picture_url  host_id  ...  \\\n",
      "0  https://a0.muscache.com/pictures/38437056/d27f...   964081  ...   \n",
      "1  https://a0.muscache.com/pictures/efd9f039-dbd2...   801494  ...   \n",
      "2  https://a0.muscache.com/pictures/miso/Hosting-...  4847803  ...   \n",
      "3  https://a0.muscache.com/pictures/airflow/Hosti...  5596383  ...   \n",
      "4  https://a0.muscache.com/pictures/72890882/05ec...  5686404  ...   \n",
      "\n",
      "  review_scores_communication review_scores_location review_scores_value  \\\n",
      "0                        4.83                   4.55                4.80   \n",
      "1                        4.98                   4.84                4.92   \n",
      "2                        4.92                   4.80                4.80   \n",
      "3                        4.98                   4.92                4.90   \n",
      "4                        4.91                   4.73                4.81   \n",
      "\n",
      "                                             license instant_bookable  \\\n",
      "0                                         M130003350                f   \n",
      "1                                         M130000243                f   \n",
      "2  Hotels and Inns Business Act | 渋谷区保健所長 | 31渋健生...                t   \n",
      "3                                         M130001107                f   \n",
      "4                                         M130007760                f   \n",
      "\n",
      "  calculated_host_listings_count calculated_host_listings_count_entire_homes  \\\n",
      "0                              1                                           1   \n",
      "1                              1                                           0   \n",
      "2                              8                                           8   \n",
      "3                              1                                           0   \n",
      "4                              1                                           0   \n",
      "\n",
      "  calculated_host_listings_count_private_rooms  \\\n",
      "0                                            0   \n",
      "1                                            1   \n",
      "2                                            0   \n",
      "3                                            1   \n",
      "4                                            1   \n",
      "\n",
      "  calculated_host_listings_count_shared_rooms reviews_per_month  \n",
      "0                                           0              1.14  \n",
      "1                                           0              1.79  \n",
      "2                                           0              1.65  \n",
      "3                                           0              1.92  \n",
      "4                                           0              0.92  \n",
      "\n",
      "[5 rows x 75 columns]\n"
     ]
    }
   ],
   "source": [
    "Tokyo_Q3 = pd.read_csv(\"listings.csv.gz\", compression=\"gzip\")\n",
    "print(Tokyo_Q3.head())"
   ]
  },
  {
   "cell_type": "markdown",
   "id": "c26f154b-cdcc-42c5-8b71-235ce5fa2eed",
   "metadata": {
    "jp-MarkdownHeadingCollapsed": true
   },
   "source": [
    "### Tokyo Q4 Data Upload"
   ]
  },
  {
   "cell_type": "code",
   "execution_count": 42,
   "id": "20bb5506-f2d1-4b2a-988f-f1fafb2db90e",
   "metadata": {},
   "outputs": [],
   "source": [
    "url = \"https://github.com/HDuo1129/Data-Analysis-3/raw/main/Assignment%202/Dataset/Tokyo/2024%20Q4/listings.csv.gz\"\n",
    "file_path = \"listings.csv.gz\"\n",
    "\n",
    "response = requests.get(url)\n",
    "with open(file_path, \"wb\") as f:\n",
    "    f.write(response.content)\n",
    "\n",
    "with gzip.open(\"listings.csv.gz\", \"rb\") as f_in:\n",
    "    with open(\"listings.csv\", \"wb\") as f_out:\n",
    "        shutil.copyfileobj(f_in, f_out)"
   ]
  },
  {
   "cell_type": "code",
   "execution_count": 44,
   "id": "f2c2cb0d-9dbe-481c-8950-29f19a336472",
   "metadata": {},
   "outputs": [
    {
     "name": "stdout",
     "output_type": "stream",
     "text": [
      "        id                           listing_url       scrape_id last_scraped  \\\n",
      "0   197677   https://www.airbnb.com/rooms/197677  20241230011552   2024-12-30   \n",
      "1   776070   https://www.airbnb.com/rooms/776070  20241230011552   2024-12-30   \n",
      "2   905944   https://www.airbnb.com/rooms/905944  20241230011552   2024-12-30   \n",
      "3  1016831  https://www.airbnb.com/rooms/1016831  20241230011552   2024-12-30   \n",
      "4  1196177  https://www.airbnb.com/rooms/1196177  20241230011552   2024-12-30   \n",
      "\n",
      "        source                                               name  \\\n",
      "0  city scrape                          Oshiage Holiday Apartment   \n",
      "1  city scrape                             Kero-kero house room 1   \n",
      "2  city scrape  4F Spacious Apartment in Shinjuku / Shibuya Tokyo   \n",
      "3  city scrape         5 mins Shibuya Cat modern sunny  Shimokita   \n",
      "4  city scrape   Homestay at Host's House -  Senju-Ohashi Station   \n",
      "\n",
      "                                         description  \\\n",
      "0                                                NaN   \n",
      "1  We have been in airbnb since 2011 and it has g...   \n",
      "2  NEWLY RENOVATED property entirely for you & yo...   \n",
      "3  Hi there, I am Wakana and I live with my two f...   \n",
      "4  Our accommodation offers:  <br /><br />1. **Gr...   \n",
      "\n",
      "                               neighborhood_overview  \\\n",
      "0                                                NaN   \n",
      "1  We love Nishinippori because is nearer to Toky...   \n",
      "2  Hatagaya is a great neighborhood located 4 min...   \n",
      "3  The location is walkable distance to famous Sh...   \n",
      "4  There are shopping mall near Senjuohashi stati...   \n",
      "\n",
      "                                         picture_url  host_id  ...  \\\n",
      "0  https://a0.muscache.com/pictures/38437056/d27f...   964081  ...   \n",
      "1  https://a0.muscache.com/pictures/efd9f039-dbd2...   801494  ...   \n",
      "2  https://a0.muscache.com/pictures/miso/Hosting-...  4847803  ...   \n",
      "3  https://a0.muscache.com/pictures/airflow/Hosti...  5596383  ...   \n",
      "4  https://a0.muscache.com/pictures/72890882/05ec...  5686404  ...   \n",
      "\n",
      "  review_scores_communication review_scores_location review_scores_value  \\\n",
      "0                        4.84                   4.56                4.80   \n",
      "1                        4.98                   4.84                4.92   \n",
      "2                        4.91                   4.78                4.78   \n",
      "3                        4.98                   4.92                4.90   \n",
      "4                        4.92                   4.74                4.82   \n",
      "\n",
      "                                             license instant_bookable  \\\n",
      "0                                         M130003350                f   \n",
      "1                                         M130000243                f   \n",
      "2  Hotels and Inns Business Act | 渋谷区保健所長 | 31渋健生...                t   \n",
      "3                                         M130001107                f   \n",
      "4                                         M130007760                f   \n",
      "\n",
      "  calculated_host_listings_count calculated_host_listings_count_entire_homes  \\\n",
      "0                              1                                           1   \n",
      "1                              1                                           0   \n",
      "2                              8                                           8   \n",
      "3                              1                                           0   \n",
      "4                              1                                           0   \n",
      "\n",
      "  calculated_host_listings_count_private_rooms  \\\n",
      "0                                            0   \n",
      "1                                            1   \n",
      "2                                            0   \n",
      "3                                            1   \n",
      "4                                            1   \n",
      "\n",
      "  calculated_host_listings_count_shared_rooms reviews_per_month  \n",
      "0                                           0              1.13  \n",
      "1                                           0              1.79  \n",
      "2                                           0              1.69  \n",
      "3                                           0              1.90  \n",
      "4                                           0              0.97  \n",
      "\n",
      "[5 rows x 75 columns]\n"
     ]
    }
   ],
   "source": [
    "Tokyo_Q4 = pd.read_csv(\"listings.csv.gz\", compression=\"gzip\")\n",
    "print(Tokyo_Q4.head())"
   ]
  },
  {
   "cell_type": "markdown",
   "id": "adb15f55-3ecf-41bf-ad23-49c6bf815928",
   "metadata": {
    "jp-MarkdownHeadingCollapsed": true
   },
   "source": [
    "### Bangkok Q3 Data Upload"
   ]
  },
  {
   "cell_type": "code",
   "execution_count": 46,
   "id": "48980931-531d-4126-abc7-f3b025d34a66",
   "metadata": {},
   "outputs": [],
   "source": [
    "url = \"https://github.com/HDuo1129/Data-Analysis-3/raw/main/Assignment%202/Dataset/Bangkok/2024%20Q3/listings.csv.gz\"\n",
    "file_path = \"listings.csv.gz\"\n",
    "\n",
    "response = requests.get(url)\n",
    "with open(file_path, \"wb\") as f:\n",
    "    f.write(response.content)\n",
    "\n",
    "with gzip.open(\"listings.csv.gz\", \"rb\") as f_in:\n",
    "    with open(\"listings.csv\", \"wb\") as f_out:\n",
    "        shutil.copyfileobj(f_in, f_out)"
   ]
  },
  {
   "cell_type": "code",
   "execution_count": 48,
   "id": "bc329d3a-23b2-423e-bfe0-db77cb685f95",
   "metadata": {},
   "outputs": [
    {
     "name": "stdout",
     "output_type": "stream",
     "text": [
      "      id                         listing_url       scrape_id last_scraped  \\\n",
      "0  27934  https://www.airbnb.com/rooms/27934  20240925020907   2024-09-25   \n",
      "1  27979  https://www.airbnb.com/rooms/27979  20240925020907   2024-09-25   \n",
      "2  28745  https://www.airbnb.com/rooms/28745  20240925020907   2024-09-25   \n",
      "3  35780  https://www.airbnb.com/rooms/35780  20240925020907   2024-09-25   \n",
      "4  48736  https://www.airbnb.com/rooms/48736  20240925020907   2024-09-25   \n",
      "\n",
      "            source                                            name  \\\n",
      "0      city scrape                 Nice room with superb city view   \n",
      "1  previous scrape                  Easy going landlord,easy place   \n",
      "2  previous scrape               modern-style apartment in Bangkok   \n",
      "3      city scrape  Spacious one bedroom at The Kris Condo Bldg. 3   \n",
      "4      city scrape                 Condo with Chaopraya River View   \n",
      "\n",
      "                                         description  \\\n",
      "0  Our cool and comfortable one bedroom apartment...   \n",
      "1                                                NaN   \n",
      "2  A modern-style apartment situated in a cool ne...   \n",
      "3  Cozy and clean apartment at MRT Sutthisarn sta...   \n",
      "4  at a size of 25sqm for your vacation in BKK.<b...   \n",
      "\n",
      "                               neighborhood_overview  \\\n",
      "0  It is very center of Bangkok and easy access t...   \n",
      "1                                                NaN   \n",
      "2  Ramkumheang neigbourhood - hip place with food...   \n",
      "3  There is McDonald's, Au bon Pain and Max Value...   \n",
      "4                                                NaN   \n",
      "\n",
      "                                         picture_url  host_id  ...  \\\n",
      "0  https://a0.muscache.com/pictures/566374/23157b...   120437  ...   \n",
      "1  https://a0.muscache.com/pictures/106247594/1d6...   120541  ...   \n",
      "2  https://a0.muscache.com/pictures/160369/92a7ec...   123784  ...   \n",
      "3  https://a0.muscache.com/pictures/89302e4b-b529...   153730  ...   \n",
      "4  https://a0.muscache.com/pictures/12465296/e9c0...   222005  ...   \n",
      "\n",
      "  review_scores_communication review_scores_location review_scores_value  \\\n",
      "0                        4.91                   4.66                4.75   \n",
      "1                         NaN                    NaN                 NaN   \n",
      "2                         NaN                    NaN                 NaN   \n",
      "3                        4.83                   4.83                5.00   \n",
      "4                        5.00                   5.00                5.00   \n",
      "\n",
      "  license instant_bookable calculated_host_listings_count  \\\n",
      "0     NaN                f                              2   \n",
      "1     NaN                f                              2   \n",
      "2     NaN                f                              1   \n",
      "3     NaN                f                              1   \n",
      "4     NaN                f                              1   \n",
      "\n",
      "  calculated_host_listings_count_entire_homes  \\\n",
      "0                                           2   \n",
      "1                                           1   \n",
      "2                                           0   \n",
      "3                                           0   \n",
      "4                                           0   \n",
      "\n",
      "  calculated_host_listings_count_private_rooms  \\\n",
      "0                                            0   \n",
      "1                                            1   \n",
      "2                                            1   \n",
      "3                                            1   \n",
      "4                                            1   \n",
      "\n",
      "  calculated_host_listings_count_shared_rooms reviews_per_month  \n",
      "0                                           0              0.43  \n",
      "1                                           0               NaN  \n",
      "2                                           0               NaN  \n",
      "3                                           0              0.06  \n",
      "4                                           0              0.01  \n",
      "\n",
      "[5 rows x 75 columns]\n"
     ]
    }
   ],
   "source": [
    "Bangkok_Q3 = pd.read_csv(\"listings.csv.gz\", compression=\"gzip\")\n",
    "print(Bangkok_Q3.head())"
   ]
  },
  {
   "cell_type": "code",
   "execution_count": null,
   "id": "a03ae4cf-bd89-4170-b703-3210c5b9c986",
   "metadata": {},
   "outputs": [],
   "source": []
  },
  {
   "cell_type": "markdown",
   "id": "3f9ff5ad-d07a-4294-a97b-be5c161117f9",
   "metadata": {},
   "source": [
    "## Data Cleaning"
   ]
  },
  {
   "cell_type": "markdown",
   "id": "11dbd064-a078-4665-bc4e-172393e9beda",
   "metadata": {},
   "source": [
    "### Tokyo Q3 Data Cleaning"
   ]
  },
  {
   "cell_type": "code",
   "execution_count": 45,
   "id": "1751d8d0-2062-4b71-a82a-7975a64748e6",
   "metadata": {},
   "outputs": [],
   "source": [
    "columns_to_drop = [\n",
    "    \"scrape_id\", \"source\", \"neighbourhood_group_cleansed\", \"calendar_updated\", \"listing_url\", \"picture_url\", \n",
    "    \"host_url\", \"host_thumbnail_url\", \"host_picture_url\", \"host_neighbourhood\", \"neighbourhood\", \"calendar_last_scraped\",\n",
    "    \"minimum_minimum_nights\", \"maximum_minimum_nights\", \"minimum_maximum_nights\", \"maximum_maximum_nights\", \n",
    "    \"minimum_nights_avg_ntm\", \"maximum_nights_avg_ntm\", \"calculated_host_listings_count_entire_homes\", \n",
    "    \"calculated_host_listings_count_private_rooms\", \"calculated_host_listings_count_shared_rooms\"]\n",
    "Tokyo_Q3_cleaned = Tokyo_Q3.drop(columns=columns_to_drop)\n",
    "\n",
    "fillna_dict = {\n",
    "    \"description\": \"\",\n",
    "    \"neighborhood_overview\": \"\",\n",
    "    \"host_about\": \"\",\n",
    "    \"host_location\": \"Unknown\",\n",
    "    \"host_response_time\": \"Unknown\",\n",
    "    \"host_response_rate\": \"0%\",\n",
    "    \"host_acceptance_rate\": \"0%\",\n",
    "    \"bathrooms\": Tokyo_Q3_cleaned[\"bathrooms\"].median(),\n",
    "    \"bedrooms\": Tokyo_Q3_cleaned[\"bedrooms\"].median(),\n",
    "    \"beds\": Tokyo_Q3_cleaned[\"beds\"].median(),\n",
    "    \"review_scores_rating\": 0,\n",
    "    \"review_scores_accuracy\": 0,\n",
    "    \"review_scores_cleanliness\": 0,\n",
    "    \"review_scores_checkin\": 0,\n",
    "    \"review_scores_communication\": 0,\n",
    "    \"review_scores_location\": 0,\n",
    "    \"review_scores_value\": 0,\n",
    "    \"reviews_per_month\": 0}\n",
    "Tokyo_Q3_cleaned.fillna(fillna_dict, inplace=True)"
   ]
  },
  {
   "cell_type": "code",
   "execution_count": 47,
   "id": "23861045-bff7-49e7-88d8-55a813718d69",
   "metadata": {},
   "outputs": [],
   "source": [
    "# Price Check\n",
    "Tokyo_Q3_cleaned[\"price\"] = (\n",
    "    Tokyo_Q3_cleaned[\"price\"]\n",
    "    .astype(str)\n",
    "    .str.replace(\"$\", \"\")\n",
    "    .str.replace(\",\", \"\")\n",
    "    .astype(float))\n",
    "\n",
    "# Rate Check\n",
    "Tokyo_Q3_cleaned[\"host_response_rate\"] = (\n",
    "    Tokyo_Q3_cleaned[\"host_response_rate\"]\n",
    "    .str.replace(\"%\", \"\")\n",
    "    .astype(float))\n",
    "Tokyo_Q3_cleaned[\"host_acceptance_rate\"] = (\n",
    "    Tokyo_Q3_cleaned[\"host_acceptance_rate\"]\n",
    "    .str.replace(\"%\", \"\")\n",
    "    .astype(float))\n",
    "\n",
    "# Date Check\n",
    "date_cols = [\"host_since\", \"first_review\", \"last_review\"]\n",
    "for col in date_cols:\n",
    "    Tokyo_Q3_cleaned[col] = pd.to_datetime(Tokyo_Q3_cleaned[col], errors=\"coerce\")\n",
    "\n",
    "# TF Result Check\n",
    "bool_cols = [\"instant_bookable\", \"host_is_superhost\", \"host_identity_verified\"]\n",
    "for col in bool_cols:\n",
    "    Tokyo_Q3_cleaned[col] = Tokyo_Q3_cleaned[col].map({\"t\": True, \"f\": False})\n",
    "\n",
    "# Calculate Landlord Experience\n",
    "Tokyo_Q3_cleaned[\"host_experience\"] = 2024 - Tokyo_Q3_cleaned[\"host_since\"].dt.year\n",
    "\n",
    "# Facility Pick-Up\n",
    "important_amenities = [\"Wifi\", \"Kitchen\", \"Washer\", \"Air conditioning\", \"Heating\", \"TV\", \"Elevator\"]\n",
    "for amenity in important_amenities:\n",
    "    Tokyo_Q3_cleaned[f\"has_{amenity.lower().replace(' ', '_')}\"] = Tokyo_Q3_cleaned[\"amenities\"].apply(lambda x: amenity in x)\n",
    "\n",
    "# Calculate Distance from Centre\n",
    "tokyo_center = (35.682839, 139.759455)\n",
    "Tokyo_Q3_cleaned[\"distance_from_center\"] = Tokyo_Q3_cleaned.apply(lambda row: geodesic((row[\"latitude\"], row[\"longitude\"]), tokyo_center).km, axis=1)"
   ]
  },
  {
   "cell_type": "code",
   "execution_count": 49,
   "id": "982de13a-a7e6-4cdf-a8a5-dd4729377353",
   "metadata": {},
   "outputs": [],
   "source": [
    "columns_to_drop_final = [\"bathrooms_text\", \"host_about\", \"host_location\", \"host_verifications\",\n",
    "                         \"host_has_profile_pic\", \"license\", \"amenities\", \"latitude\", \"longitude\"]\n",
    "Tokyo_Q3_cleaned = Tokyo_Q3_cleaned.drop(columns=columns_to_drop_final)\n",
    "rename_dict = {\n",
    "    \"review_scores_communication\": \"review_communication_score\",\n",
    "    \"review_scores_location\": \"review_location_score\",\n",
    "    \"review_scores_value\": \"review_value_score\",\n",
    "    \"host_total_listings_count\": \"total_listings_by_host\"}\n",
    "Tokyo_Q3_cleaned.rename(columns=rename_dict, inplace=True)"
   ]
  },
  {
   "cell_type": "code",
   "execution_count": 51,
   "id": "b36678af-8359-4b60-83ac-1753971f9279",
   "metadata": {},
   "outputs": [
    {
     "name": "stdout",
     "output_type": "stream",
     "text": [
      "        id last_scraped                                               name  \\\n",
      "0   197677   2024-09-27                          Oshiage Holiday Apartment   \n",
      "1   776070   2024-09-27                             Kero-kero house room 1   \n",
      "2   905944   2024-09-27  4F Spacious Apartment in Shinjuku / Shibuya Tokyo   \n",
      "3  1016831   2024-09-27         5 mins Shibuya Cat modern sunny  Shimokita   \n",
      "4  1196177   2024-09-27        Stay with host Cozy private room Senju area   \n",
      "\n",
      "                                         description  \\\n",
      "0                                                      \n",
      "1  We have been in airbnb since 2011 and it has g...   \n",
      "2  NEWLY RENOVATED property entirely for you & yo...   \n",
      "3  Hi there, I am Wakana and I live with my two f...   \n",
      "4  Ｓtay with host.We can help your travel.<br />B...   \n",
      "\n",
      "                               neighborhood_overview  host_id  \\\n",
      "0                                                      964081   \n",
      "1  We love Nishinippori because is nearer to Toky...   801494   \n",
      "2  Hatagaya is a great neighborhood located 4 min...  4847803   \n",
      "3  The location is walkable distance to famous Sh...  5596383   \n",
      "4  There are shopping mall near Senjuohashi stati...  5686404   \n",
      "\n",
      "             host_name host_since  host_response_time  host_response_rate  \\\n",
      "0      Yoshimi & Marek 2011-08-13        within a day               100.0   \n",
      "1                  Kei 2011-07-10      within an hour               100.0   \n",
      "2  Best Stay In Tokyo! 2013-01-25      within an hour               100.0   \n",
      "3               Wakana 2013-03-24  within a few hours               100.0   \n",
      "4               Yukiko 2013-03-30      within an hour               100.0   \n",
      "\n",
      "   ...  reviews_per_month host_experience  has_wifi  has_kitchen  has_washer  \\\n",
      "0  ...               1.14              13      True         True       False   \n",
      "1  ...               1.79              13      True        False       False   \n",
      "2  ...               1.65              11      True         True       False   \n",
      "3  ...               1.92              11     False         True       False   \n",
      "4  ...               0.92              11     False        False       False   \n",
      "\n",
      "  has_air_conditioning has_heating has_tv  has_elevator  distance_from_center  \n",
      "0                 True        True   True         False              7.126289  \n",
      "1                 True        True   True         False              6.231459  \n",
      "2                False       False   True         False              7.345037  \n",
      "3                False        True   True         False              8.440319  \n",
      "4                False        True   True         False              7.615164  \n",
      "\n",
      "[5 rows x 54 columns]\n"
     ]
    }
   ],
   "source": [
    "print(Tokyo_Q3_cleaned.head())"
   ]
  },
  {
   "cell_type": "markdown",
   "id": "05eb64f0-f051-47ba-8d16-1a2713996452",
   "metadata": {},
   "source": [
    "### Tokyo Q4 Data Cleaning"
   ]
  },
  {
   "cell_type": "markdown",
   "id": "bd40a2a7-6dcc-4c23-8303-71646351cee7",
   "metadata": {},
   "source": [
    "### Bangkok Q3 Data Cleaning"
   ]
  },
  {
   "cell_type": "code",
   "execution_count": null,
   "id": "2eb0d7c7-3bdb-4d34-81cc-2906cfabfa42",
   "metadata": {},
   "outputs": [],
   "source": []
  }
 ],
 "metadata": {
  "kernelspec": {
   "display_name": "Python 3 (ipykernel)",
   "language": "python",
   "name": "python3"
  },
  "language_info": {
   "codemirror_mode": {
    "name": "ipython",
    "version": 3
   },
   "file_extension": ".py",
   "mimetype": "text/x-python",
   "name": "python",
   "nbconvert_exporter": "python",
   "pygments_lexer": "ipython3",
   "version": "3.12.4"
  }
 },
 "nbformat": 4,
 "nbformat_minor": 5
}
