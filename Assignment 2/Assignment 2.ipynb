{
 "cells": [
  {
   "cell_type": "code",
   "execution_count": 272,
   "id": "98e3ac1c-87cb-4cf6-97b9-3e3d55ee19dc",
   "metadata": {},
   "outputs": [],
   "source": [
    "import requests\n",
    "import gzip\n",
    "import shutil\n",
    "import pandas as pd\n",
    "import numpy as np\n",
    "import time\n",
    "from IPython.display import display\n",
    "from geopy.distance import geodesic\n",
    "from sklearn.model_selection import train_test_split\n",
    "from sklearn.linear_model import LinearRegression, Lasso\n",
    "from sklearn.ensemble import RandomForestRegressor, GradientBoostingRegressor\n",
    "from xgboost import XGBRegressor\n",
    "from sklearn.metrics import mean_squared_error, r2_score\n",
    "from sklearn.preprocessing import StandardScaler\n",
    "from sklearn.model_selection import cross_val_score\n",
    "from sklearn.metrics import make_scorer\n",
    "from sklearn.model_selection import KFold\n",
    "import matplotlib.pyplot as plt"
   ]
  },
  {
   "cell_type": "markdown",
   "id": "d6940692-ed32-4637-80e9-60f5de350cd5",
   "metadata": {
    "jp-MarkdownHeadingCollapsed": true
   },
   "source": [
    "## Data Upload"
   ]
  },
  {
   "cell_type": "markdown",
   "id": "c20c6c15-f38e-4e0e-9428-41fdc2e2e6af",
   "metadata": {
    "jp-MarkdownHeadingCollapsed": true
   },
   "source": [
    "### Tokyo Q3 Data Upload"
   ]
  },
  {
   "cell_type": "code",
   "execution_count": 122,
   "id": "de756a46-8aae-475c-82ae-9863c4ddda38",
   "metadata": {},
   "outputs": [],
   "source": [
    "url = \"https://github.com/HDuo1129/Data-Analysis-3/raw/main/Assignment%202/Dataset/Tokyo/2024%20Q3/listings.csv.gz\"\n",
    "file_path = \"listings.csv.gz\"\n",
    "\n",
    "response = requests.get(url)\n",
    "with open(file_path, \"wb\") as f:\n",
    "    f.write(response.content)\n",
    "\n",
    "with gzip.open(\"listings.csv.gz\", \"rb\") as f_in:\n",
    "    with open(\"listings.csv\", \"wb\") as f_out:\n",
    "        shutil.copyfileobj(f_in, f_out)"
   ]
  },
  {
   "cell_type": "code",
   "execution_count": 123,
   "id": "5c0ebe6e-6681-467c-ad67-7aafa8801340",
   "metadata": {},
   "outputs": [
    {
     "name": "stdout",
     "output_type": "stream",
     "text": [
      "        id                           listing_url       scrape_id last_scraped  \\\n",
      "0   197677   https://www.airbnb.com/rooms/197677  20240927024131   2024-09-27   \n",
      "1   776070   https://www.airbnb.com/rooms/776070  20240927024131   2024-09-27   \n",
      "2   905944   https://www.airbnb.com/rooms/905944  20240927024131   2024-09-27   \n",
      "3  1016831  https://www.airbnb.com/rooms/1016831  20240927024131   2024-09-27   \n",
      "4  1196177  https://www.airbnb.com/rooms/1196177  20240927024131   2024-09-27   \n",
      "\n",
      "        source                                               name  \\\n",
      "0  city scrape                          Oshiage Holiday Apartment   \n",
      "1  city scrape                             Kero-kero house room 1   \n",
      "2  city scrape  4F Spacious Apartment in Shinjuku / Shibuya Tokyo   \n",
      "3  city scrape         5 mins Shibuya Cat modern sunny  Shimokita   \n",
      "4  city scrape        Stay with host Cozy private room Senju area   \n",
      "\n",
      "                                         description  \\\n",
      "0                                                NaN   \n",
      "1  We have been in airbnb since 2011 and it has g...   \n",
      "2  NEWLY RENOVATED property entirely for you & yo...   \n",
      "3  Hi there, I am Wakana and I live with my two f...   \n",
      "4  Ｓtay with host.We can help your travel.<br />B...   \n",
      "\n",
      "                               neighborhood_overview  \\\n",
      "0                                                NaN   \n",
      "1  We love Nishinippori because is nearer to Toky...   \n",
      "2  Hatagaya is a great neighborhood located 4 min...   \n",
      "3  The location is walkable distance to famous Sh...   \n",
      "4  There are shopping mall near Senjuohashi stati...   \n",
      "\n",
      "                                         picture_url  host_id  ...  \\\n",
      "0  https://a0.muscache.com/pictures/38437056/d27f...   964081  ...   \n",
      "1  https://a0.muscache.com/pictures/efd9f039-dbd2...   801494  ...   \n",
      "2  https://a0.muscache.com/pictures/miso/Hosting-...  4847803  ...   \n",
      "3  https://a0.muscache.com/pictures/airflow/Hosti...  5596383  ...   \n",
      "4  https://a0.muscache.com/pictures/72890882/05ec...  5686404  ...   \n",
      "\n",
      "  review_scores_communication review_scores_location review_scores_value  \\\n",
      "0                        4.83                   4.55                4.80   \n",
      "1                        4.98                   4.84                4.92   \n",
      "2                        4.92                   4.80                4.80   \n",
      "3                        4.98                   4.92                4.90   \n",
      "4                        4.91                   4.73                4.81   \n",
      "\n",
      "                                             license instant_bookable  \\\n",
      "0                                         M130003350                f   \n",
      "1                                         M130000243                f   \n",
      "2  Hotels and Inns Business Act | 渋谷区保健所長 | 31渋健生...                t   \n",
      "3                                         M130001107                f   \n",
      "4                                         M130007760                f   \n",
      "\n",
      "  calculated_host_listings_count calculated_host_listings_count_entire_homes  \\\n",
      "0                              1                                           1   \n",
      "1                              1                                           0   \n",
      "2                              8                                           8   \n",
      "3                              1                                           0   \n",
      "4                              1                                           0   \n",
      "\n",
      "  calculated_host_listings_count_private_rooms  \\\n",
      "0                                            0   \n",
      "1                                            1   \n",
      "2                                            0   \n",
      "3                                            1   \n",
      "4                                            1   \n",
      "\n",
      "  calculated_host_listings_count_shared_rooms reviews_per_month  \n",
      "0                                           0              1.14  \n",
      "1                                           0              1.79  \n",
      "2                                           0              1.65  \n",
      "3                                           0              1.92  \n",
      "4                                           0              0.92  \n",
      "\n",
      "[5 rows x 75 columns]\n"
     ]
    }
   ],
   "source": [
    "Tokyo_Q3 = pd.read_csv(\"listings.csv.gz\", compression=\"gzip\")\n",
    "print(Tokyo_Q3.head())"
   ]
  },
  {
   "cell_type": "markdown",
   "id": "c26f154b-cdcc-42c5-8b71-235ce5fa2eed",
   "metadata": {
    "jp-MarkdownHeadingCollapsed": true
   },
   "source": [
    "### Tokyo Q4 Data Upload"
   ]
  },
  {
   "cell_type": "code",
   "execution_count": 185,
   "id": "20bb5506-f2d1-4b2a-988f-f1fafb2db90e",
   "metadata": {},
   "outputs": [],
   "source": [
    "url = \"https://github.com/HDuo1129/Data-Analysis-3/raw/main/Assignment%202/Dataset/Tokyo/2024%20Q4/listings.csv.gz\"\n",
    "file_path = \"listings.csv.gz\"\n",
    "\n",
    "response = requests.get(url)\n",
    "with open(file_path, \"wb\") as f:\n",
    "    f.write(response.content)\n",
    "\n",
    "with gzip.open(\"listings.csv.gz\", \"rb\") as f_in:\n",
    "    with open(\"listings.csv\", \"wb\") as f_out:\n",
    "        shutil.copyfileobj(f_in, f_out)"
   ]
  },
  {
   "cell_type": "code",
   "execution_count": 187,
   "id": "f2c2cb0d-9dbe-481c-8950-29f19a336472",
   "metadata": {},
   "outputs": [
    {
     "name": "stdout",
     "output_type": "stream",
     "text": [
      "        id                           listing_url       scrape_id last_scraped  \\\n",
      "0   197677   https://www.airbnb.com/rooms/197677  20241230011552   2024-12-30   \n",
      "1   776070   https://www.airbnb.com/rooms/776070  20241230011552   2024-12-30   \n",
      "2   905944   https://www.airbnb.com/rooms/905944  20241230011552   2024-12-30   \n",
      "3  1016831  https://www.airbnb.com/rooms/1016831  20241230011552   2024-12-30   \n",
      "4  1196177  https://www.airbnb.com/rooms/1196177  20241230011552   2024-12-30   \n",
      "\n",
      "        source                                               name  \\\n",
      "0  city scrape                          Oshiage Holiday Apartment   \n",
      "1  city scrape                             Kero-kero house room 1   \n",
      "2  city scrape  4F Spacious Apartment in Shinjuku / Shibuya Tokyo   \n",
      "3  city scrape         5 mins Shibuya Cat modern sunny  Shimokita   \n",
      "4  city scrape   Homestay at Host's House -  Senju-Ohashi Station   \n",
      "\n",
      "                                         description  \\\n",
      "0                                                NaN   \n",
      "1  We have been in airbnb since 2011 and it has g...   \n",
      "2  NEWLY RENOVATED property entirely for you & yo...   \n",
      "3  Hi there, I am Wakana and I live with my two f...   \n",
      "4  Our accommodation offers:  <br /><br />1. **Gr...   \n",
      "\n",
      "                               neighborhood_overview  \\\n",
      "0                                                NaN   \n",
      "1  We love Nishinippori because is nearer to Toky...   \n",
      "2  Hatagaya is a great neighborhood located 4 min...   \n",
      "3  The location is walkable distance to famous Sh...   \n",
      "4  There are shopping mall near Senjuohashi stati...   \n",
      "\n",
      "                                         picture_url  host_id  ...  \\\n",
      "0  https://a0.muscache.com/pictures/38437056/d27f...   964081  ...   \n",
      "1  https://a0.muscache.com/pictures/efd9f039-dbd2...   801494  ...   \n",
      "2  https://a0.muscache.com/pictures/miso/Hosting-...  4847803  ...   \n",
      "3  https://a0.muscache.com/pictures/airflow/Hosti...  5596383  ...   \n",
      "4  https://a0.muscache.com/pictures/72890882/05ec...  5686404  ...   \n",
      "\n",
      "  review_scores_communication review_scores_location review_scores_value  \\\n",
      "0                        4.84                   4.56                4.80   \n",
      "1                        4.98                   4.84                4.92   \n",
      "2                        4.91                   4.78                4.78   \n",
      "3                        4.98                   4.92                4.90   \n",
      "4                        4.92                   4.74                4.82   \n",
      "\n",
      "                                             license instant_bookable  \\\n",
      "0                                         M130003350                f   \n",
      "1                                         M130000243                f   \n",
      "2  Hotels and Inns Business Act | 渋谷区保健所長 | 31渋健生...                t   \n",
      "3                                         M130001107                f   \n",
      "4                                         M130007760                f   \n",
      "\n",
      "  calculated_host_listings_count calculated_host_listings_count_entire_homes  \\\n",
      "0                              1                                           1   \n",
      "1                              1                                           0   \n",
      "2                              8                                           8   \n",
      "3                              1                                           0   \n",
      "4                              1                                           0   \n",
      "\n",
      "  calculated_host_listings_count_private_rooms  \\\n",
      "0                                            0   \n",
      "1                                            1   \n",
      "2                                            0   \n",
      "3                                            1   \n",
      "4                                            1   \n",
      "\n",
      "  calculated_host_listings_count_shared_rooms reviews_per_month  \n",
      "0                                           0              1.13  \n",
      "1                                           0              1.79  \n",
      "2                                           0              1.69  \n",
      "3                                           0              1.90  \n",
      "4                                           0              0.97  \n",
      "\n",
      "[5 rows x 75 columns]\n"
     ]
    }
   ],
   "source": [
    "Tokyo_Q4 = pd.read_csv(\"listings.csv.gz\", compression=\"gzip\")\n",
    "print(Tokyo_Q4.head())"
   ]
  },
  {
   "cell_type": "markdown",
   "id": "adb15f55-3ecf-41bf-ad23-49c6bf815928",
   "metadata": {
    "jp-MarkdownHeadingCollapsed": true
   },
   "source": [
    "### Bangkok Q3 Data Upload"
   ]
  },
  {
   "cell_type": "code",
   "execution_count": 207,
   "id": "48980931-531d-4126-abc7-f3b025d34a66",
   "metadata": {},
   "outputs": [],
   "source": [
    "url = \"https://github.com/HDuo1129/Data-Analysis-3/raw/main/Assignment%202/Dataset/Bangkok/2024%20Q3/listings.csv.gz\"\n",
    "file_path = \"listings.csv.gz\"\n",
    "\n",
    "response = requests.get(url)\n",
    "with open(file_path, \"wb\") as f:\n",
    "    f.write(response.content)\n",
    "\n",
    "with gzip.open(\"listings.csv.gz\", \"rb\") as f_in:\n",
    "    with open(\"listings.csv\", \"wb\") as f_out:\n",
    "        shutil.copyfileobj(f_in, f_out)"
   ]
  },
  {
   "cell_type": "code",
   "execution_count": 208,
   "id": "bc329d3a-23b2-423e-bfe0-db77cb685f95",
   "metadata": {},
   "outputs": [
    {
     "name": "stdout",
     "output_type": "stream",
     "text": [
      "      id                         listing_url       scrape_id last_scraped  \\\n",
      "0  27934  https://www.airbnb.com/rooms/27934  20240925020907   2024-09-25   \n",
      "1  27979  https://www.airbnb.com/rooms/27979  20240925020907   2024-09-25   \n",
      "2  28745  https://www.airbnb.com/rooms/28745  20240925020907   2024-09-25   \n",
      "3  35780  https://www.airbnb.com/rooms/35780  20240925020907   2024-09-25   \n",
      "4  48736  https://www.airbnb.com/rooms/48736  20240925020907   2024-09-25   \n",
      "\n",
      "            source                                            name  \\\n",
      "0      city scrape                 Nice room with superb city view   \n",
      "1  previous scrape                  Easy going landlord,easy place   \n",
      "2  previous scrape               modern-style apartment in Bangkok   \n",
      "3      city scrape  Spacious one bedroom at The Kris Condo Bldg. 3   \n",
      "4      city scrape                 Condo with Chaopraya River View   \n",
      "\n",
      "                                         description  \\\n",
      "0  Our cool and comfortable one bedroom apartment...   \n",
      "1                                                NaN   \n",
      "2  A modern-style apartment situated in a cool ne...   \n",
      "3  Cozy and clean apartment at MRT Sutthisarn sta...   \n",
      "4  at a size of 25sqm for your vacation in BKK.<b...   \n",
      "\n",
      "                               neighborhood_overview  \\\n",
      "0  It is very center of Bangkok and easy access t...   \n",
      "1                                                NaN   \n",
      "2  Ramkumheang neigbourhood - hip place with food...   \n",
      "3  There is McDonald's, Au bon Pain and Max Value...   \n",
      "4                                                NaN   \n",
      "\n",
      "                                         picture_url  host_id  ...  \\\n",
      "0  https://a0.muscache.com/pictures/566374/23157b...   120437  ...   \n",
      "1  https://a0.muscache.com/pictures/106247594/1d6...   120541  ...   \n",
      "2  https://a0.muscache.com/pictures/160369/92a7ec...   123784  ...   \n",
      "3  https://a0.muscache.com/pictures/89302e4b-b529...   153730  ...   \n",
      "4  https://a0.muscache.com/pictures/12465296/e9c0...   222005  ...   \n",
      "\n",
      "  review_scores_communication review_scores_location review_scores_value  \\\n",
      "0                        4.91                   4.66                4.75   \n",
      "1                         NaN                    NaN                 NaN   \n",
      "2                         NaN                    NaN                 NaN   \n",
      "3                        4.83                   4.83                5.00   \n",
      "4                        5.00                   5.00                5.00   \n",
      "\n",
      "  license instant_bookable calculated_host_listings_count  \\\n",
      "0     NaN                f                              2   \n",
      "1     NaN                f                              2   \n",
      "2     NaN                f                              1   \n",
      "3     NaN                f                              1   \n",
      "4     NaN                f                              1   \n",
      "\n",
      "  calculated_host_listings_count_entire_homes  \\\n",
      "0                                           2   \n",
      "1                                           1   \n",
      "2                                           0   \n",
      "3                                           0   \n",
      "4                                           0   \n",
      "\n",
      "  calculated_host_listings_count_private_rooms  \\\n",
      "0                                            0   \n",
      "1                                            1   \n",
      "2                                            1   \n",
      "3                                            1   \n",
      "4                                            1   \n",
      "\n",
      "  calculated_host_listings_count_shared_rooms reviews_per_month  \n",
      "0                                           0              0.43  \n",
      "1                                           0               NaN  \n",
      "2                                           0               NaN  \n",
      "3                                           0              0.06  \n",
      "4                                           0              0.01  \n",
      "\n",
      "[5 rows x 75 columns]\n"
     ]
    }
   ],
   "source": [
    "Bangkok_Q3 = pd.read_csv(\"listings.csv.gz\", compression=\"gzip\")\n",
    "print(Bangkok_Q3.head())"
   ]
  },
  {
   "cell_type": "markdown",
   "id": "3f9ff5ad-d07a-4294-a97b-be5c161117f9",
   "metadata": {
    "jp-MarkdownHeadingCollapsed": true
   },
   "source": [
    "## Data Cleaning"
   ]
  },
  {
   "cell_type": "markdown",
   "id": "11dbd064-a078-4665-bc4e-172393e9beda",
   "metadata": {
    "jp-MarkdownHeadingCollapsed": true
   },
   "source": [
    "### Tokyo Q3 Data Cleaning"
   ]
  },
  {
   "cell_type": "code",
   "execution_count": 126,
   "id": "1751d8d0-2062-4b71-a82a-7975a64748e6",
   "metadata": {},
   "outputs": [],
   "source": [
    "columns_to_drop = [\n",
    "    \"scrape_id\", \"source\", \"neighbourhood_group_cleansed\", \"calendar_updated\", \"listing_url\", \"picture_url\", \n",
    "    \"host_url\", \"host_thumbnail_url\", \"host_picture_url\", \"host_neighbourhood\", \"neighbourhood\", \"calendar_last_scraped\",\n",
    "    \"minimum_minimum_nights\", \"maximum_minimum_nights\", \"minimum_maximum_nights\", \"maximum_maximum_nights\", \n",
    "    \"minimum_nights_avg_ntm\", \"maximum_nights_avg_ntm\", \"calculated_host_listings_count_entire_homes\", \n",
    "    \"calculated_host_listings_count_private_rooms\", \"calculated_host_listings_count_shared_rooms\", \"host_id\"]\n",
    "Tokyo_Q3_cleaned = Tokyo_Q3.drop(columns=columns_to_drop)\n",
    "\n",
    "fillna_dict = {\n",
    "    \"description\": \"\",\n",
    "    \"neighborhood_overview\": \"\",\n",
    "    \"host_about\": \"\",\n",
    "    \"host_location\": \"Unknown\",\n",
    "    \"host_response_time\": \"Unknown\",\n",
    "    \"host_response_rate\": \"0%\",\n",
    "    \"host_acceptance_rate\": \"0%\",\n",
    "    \"bathrooms\": Tokyo_Q3_cleaned[\"bathrooms\"].median(),\n",
    "    \"bedrooms\": Tokyo_Q3_cleaned[\"bedrooms\"].median(),\n",
    "    \"beds\": Tokyo_Q3_cleaned[\"beds\"].median(),\n",
    "    \"review_scores_rating\": 0,\n",
    "    \"review_scores_accuracy\": 0,\n",
    "    \"review_scores_cleanliness\": 0,\n",
    "    \"review_scores_checkin\": 0,\n",
    "    \"review_scores_communication\": 0,\n",
    "    \"review_scores_location\": 0,\n",
    "    \"review_scores_value\": 0,\n",
    "    \"reviews_per_month\": 0}\n",
    "Tokyo_Q3_cleaned.fillna(fillna_dict, inplace=True)"
   ]
  },
  {
   "cell_type": "code",
   "execution_count": 128,
   "id": "23861045-bff7-49e7-88d8-55a813718d69",
   "metadata": {},
   "outputs": [],
   "source": [
    "# Price Check\n",
    "Tokyo_Q3_cleaned[\"price\"] = (\n",
    "    Tokyo_Q3_cleaned[\"price\"]\n",
    "    .astype(str)\n",
    "    .str.replace(\"$\", \"\")\n",
    "    .str.replace(\",\", \"\")\n",
    "    .astype(float))\n",
    "\n",
    "# Rate Check\n",
    "Tokyo_Q3_cleaned[\"host_response_rate\"] = (\n",
    "    Tokyo_Q3_cleaned[\"host_response_rate\"]\n",
    "    .str.replace(\"%\", \"\")\n",
    "    .astype(float))\n",
    "Tokyo_Q3_cleaned[\"host_acceptance_rate\"] = (\n",
    "    Tokyo_Q3_cleaned[\"host_acceptance_rate\"]\n",
    "    .str.replace(\"%\", \"\")\n",
    "    .astype(float))\n",
    "\n",
    "# Date Check\n",
    "date_cols = [\"host_since\", \"first_review\", \"last_review\"]\n",
    "for col in date_cols:\n",
    "    Tokyo_Q3_cleaned[col] = pd.to_datetime(Tokyo_Q3_cleaned[col], errors=\"coerce\")\n",
    "\n",
    "# TF Result Check\n",
    "bool_cols = [\"instant_bookable\", \"host_is_superhost\", \"host_identity_verified\"]\n",
    "for col in bool_cols:\n",
    "    Tokyo_Q3_cleaned[col] = Tokyo_Q3_cleaned[col].map({\"t\": True, \"f\": False})\n",
    "\n",
    "# Calculate Landlord Experience\n",
    "Tokyo_Q3_cleaned[\"host_experience\"] = 2024 - Tokyo_Q3_cleaned[\"host_since\"].dt.year\n",
    "\n",
    "# Facility Pick-Up\n",
    "important_amenities = [\"Wifi\", \"Kitchen\", \"Washer\", \"Air conditioning\", \"Heating\", \"TV\", \"Elevator\"]\n",
    "for amenity in important_amenities:\n",
    "    Tokyo_Q3_cleaned[f\"has_{amenity.lower().replace(' ', '_')}\"] = Tokyo_Q3_cleaned[\"amenities\"].apply(lambda x: amenity in x)\n",
    "\n",
    "# Calculate Distance from Centre\n",
    "tokyo_center = (35.682839, 139.759455)\n",
    "Tokyo_Q3_cleaned[\"distance_from_center\"] = Tokyo_Q3_cleaned.apply(lambda row: geodesic((row[\"latitude\"], row[\"longitude\"]), tokyo_center).km, axis=1)"
   ]
  },
  {
   "cell_type": "code",
   "execution_count": 129,
   "id": "982de13a-a7e6-4cdf-a8a5-dd4729377353",
   "metadata": {},
   "outputs": [],
   "source": [
    "columns_to_drop_final = [\"bathrooms_text\", \"host_about\", \"host_location\", \"host_verifications\",\n",
    "                         \"host_has_profile_pic\", \"license\", \"amenities\", \"latitude\", \"longitude\"]\n",
    "Tokyo_Q3_cleaned = Tokyo_Q3_cleaned.drop(columns=columns_to_drop_final)\n",
    "rename_dict = {\n",
    "    \"review_scores_communication\": \"review_communication_score\",\n",
    "    \"review_scores_location\": \"review_location_score\",\n",
    "    \"review_scores_value\": \"review_value_score\",\n",
    "    \"host_total_listings_count\": \"total_listings_by_host\"}\n",
    "Tokyo_Q3_cleaned.rename(columns=rename_dict, inplace=True)"
   ]
  },
  {
   "cell_type": "code",
   "execution_count": 130,
   "id": "ee0f85af-6b2e-415d-b7cd-2aa0f39b4780",
   "metadata": {},
   "outputs": [],
   "source": [
    "columns_to_remove = [\"last_scraped\", \"name\", \"description\", \"neighborhood_overview\", \"host_name\"]\n",
    "Tokyo_Q3_cleaned.drop(columns=columns_to_remove, inplace=True, errors=\"ignore\")"
   ]
  },
  {
   "cell_type": "code",
   "execution_count": 131,
   "id": "4566d54b-da6e-4014-8254-cd190c7b3fb0",
   "metadata": {},
   "outputs": [],
   "source": [
    "Tokyo_Q3_cleaned[\"host_since\"] = pd.to_datetime(Tokyo_Q3_cleaned[\"host_since\"], errors=\"coerce\")\n",
    "Tokyo_Q3_cleaned[\"host_experience_years\"] = 2024 - Tokyo_Q3_cleaned[\"host_since\"].dt.year\n",
    "Tokyo_Q3_cleaned.drop(columns=[\"host_since\"], inplace=True)"
   ]
  },
  {
   "cell_type": "code",
   "execution_count": 132,
   "id": "4418a152-fdac-4e24-bea1-3edbbc9b320f",
   "metadata": {},
   "outputs": [],
   "source": [
    "response_time_mapping = {\n",
    "    \"within an hour\": 1,\n",
    "    \"within a few hours\": 2,\n",
    "    \"within a day\": 3,\n",
    "    \"a few days or more\": 4,\n",
    "    \"Unknown\": 5}\n",
    "Tokyo_Q3_cleaned[\"host_response_time\"] = Tokyo_Q3_cleaned[\"host_response_time\"].map(response_time_mapping).fillna(5).astype(int)"
   ]
  },
  {
   "cell_type": "code",
   "execution_count": 140,
   "id": "609e6070-48e2-4ffc-933d-8fdd2de223a1",
   "metadata": {},
   "outputs": [
    {
     "name": "stderr",
     "output_type": "stream",
     "text": [
      "/var/folders/69/fws7qnp96rx9nd3jbrt3d3jw0000gn/T/ipykernel_30342/3490789303.py:7: FutureWarning: Downcasting object dtype arrays on .fillna, .ffill, .bfill is deprecated and will change in a future version. Call result.infer_objects(copy=False) instead. To opt-in to the future behavior, set `pd.set_option('future.no_silent_downcasting', True)`\n",
      "  Tokyo_Q3_cleaned[col] = Tokyo_Q3_cleaned[col].fillna(False).astype(bool).astype(int)\n"
     ]
    }
   ],
   "source": [
    "binary_columns = [\"instant_bookable\", \"host_is_superhost\", \"host_identity_verified\",\n",
    "                  \"has_wifi\", \"has_kitchen\", \"has_washer\", \"has_air_conditioning\",\n",
    "                  \"has_heating\", \"has_tv\", \"has_elevator\"]\n",
    "\n",
    "for col in binary_columns:\n",
    "    if col in Tokyo_Q3_cleaned.columns:\n",
    "        Tokyo_Q3_cleaned[col] = Tokyo_Q3_cleaned[col].fillna(False).astype(bool).astype(int)"
   ]
  },
  {
   "cell_type": "code",
   "execution_count": 144,
   "id": "4ea25148-d7d8-412a-9476-629eff03e0f1",
   "metadata": {},
   "outputs": [],
   "source": [
    "categorical_columns = Tokyo_Q3_cleaned.select_dtypes(include=[\"object\"]).columns\n",
    "for col in categorical_columns:\n",
    "    Tokyo_Q3_cleaned[col] = Tokyo_Q3_cleaned[col].astype(\"category\").cat.codes"
   ]
  },
  {
   "cell_type": "code",
   "execution_count": 149,
   "id": "be05d677-d45b-4c43-80b4-77033a63e036",
   "metadata": {},
   "outputs": [],
   "source": [
    "log_transform_columns = [\"price\", \"reviews_per_month\", \"distance_from_center\"]\n",
    "for col in log_transform_columns:\n",
    "    if col in Tokyo_Q3_cleaned.columns and Tokyo_Q3_cleaned[col].min() > 0:\n",
    "        Tokyo_Q3_cleaned[col] = Tokyo_Q3_cleaned[col].apply(lambda x: np.log1p(x))"
   ]
  },
  {
   "cell_type": "code",
   "execution_count": 151,
   "id": "b36678af-8359-4b60-83ac-1753971f9279",
   "metadata": {},
   "outputs": [
    {
     "name": "stdout",
     "output_type": "stream",
     "text": [
      "        id  host_response_time  host_response_rate  host_acceptance_rate  \\\n",
      "0   197677                   3               100.0                  91.0   \n",
      "1   776070                   1               100.0                 100.0   \n",
      "2   905944                   1               100.0                 100.0   \n",
      "3  1016831                   2               100.0                 100.0   \n",
      "4  1196177                   1               100.0                  93.0   \n",
      "\n",
      "   host_is_superhost  host_listings_count  total_listings_by_host  \\\n",
      "0                  1                    1                       2   \n",
      "1                  1                    1                       6   \n",
      "2                  1                    8                      18   \n",
      "3                  1                    1                       6   \n",
      "4                  1                    1                       2   \n",
      "\n",
      "   host_identity_verified  neighbourhood_cleansed  property_type  ...  \\\n",
      "0                       1                      44             12  ...   \n",
      "1                       1                      19             27  ...   \n",
      "2                       1                      40             12  ...   \n",
      "3                       1                      39             27  ...   \n",
      "4                       1                       0             27  ...   \n",
      "\n",
      "   host_experience  has_wifi  has_kitchen  has_washer  has_air_conditioning  \\\n",
      "0               13         1            1           0                     1   \n",
      "1               13         1            0           0                     1   \n",
      "2               11         1            1           0                     0   \n",
      "3               11         0            1           0                     0   \n",
      "4               11         0            0           0                     0   \n",
      "\n",
      "   has_heating  has_tv  has_elevator  distance_from_center  \\\n",
      "0            1       1             0              2.095104   \n",
      "1            1       1             0              1.978441   \n",
      "2            0       1             0              2.121667   \n",
      "3            1       1             0              2.244990   \n",
      "4            1       1             0              2.153524   \n",
      "\n",
      "   host_experience_years  \n",
      "0                     13  \n",
      "1                     13  \n",
      "2                     11  \n",
      "3                     11  \n",
      "4                     11  \n",
      "\n",
      "[5 rows x 48 columns]\n"
     ]
    }
   ],
   "source": [
    "print(Tokyo_Q3_cleaned.head())"
   ]
  },
  {
   "cell_type": "code",
   "execution_count": 153,
   "id": "bb6542cb-ebb7-4211-8aca-8f8e9414a08c",
   "metadata": {},
   "outputs": [],
   "source": [
    "Tokyo_Q3_cleaned.to_csv(\"Tokyo_Q3_cleaned.csv\", index=False)"
   ]
  },
  {
   "cell_type": "markdown",
   "id": "05eb64f0-f051-47ba-8d16-1a2713996452",
   "metadata": {
    "jp-MarkdownHeadingCollapsed": true
   },
   "source": [
    "### Tokyo Q4 Data Cleaning"
   ]
  },
  {
   "cell_type": "code",
   "execution_count": 189,
   "id": "8a9dc938-473b-4cbd-9cd2-03830b48b504",
   "metadata": {},
   "outputs": [],
   "source": [
    "columns_to_drop = [\n",
    "    \"scrape_id\", \"source\", \"neighbourhood_group_cleansed\", \"calendar_updated\", \"listing_url\", \"picture_url\", \n",
    "    \"host_url\", \"host_thumbnail_url\", \"host_picture_url\", \"host_neighbourhood\", \"neighbourhood\", \"calendar_last_scraped\",\n",
    "    \"minimum_minimum_nights\", \"maximum_minimum_nights\", \"minimum_maximum_nights\", \"maximum_maximum_nights\", \n",
    "    \"minimum_nights_avg_ntm\", \"maximum_nights_avg_ntm\", \"calculated_host_listings_count_entire_homes\", \n",
    "    \"calculated_host_listings_count_private_rooms\", \"calculated_host_listings_count_shared_rooms\", \"host_id\"]\n",
    "Tokyo_Q4_cleaned = Tokyo_Q4.drop(columns=columns_to_drop)\n",
    "\n",
    "fillna_dict = {\n",
    "    \"description\": \"\",\n",
    "    \"neighborhood_overview\": \"\",\n",
    "    \"host_about\": \"\",\n",
    "    \"host_location\": \"Unknown\",\n",
    "    \"host_response_time\": \"Unknown\",\n",
    "    \"host_response_rate\": \"0%\",\n",
    "    \"host_acceptance_rate\": \"0%\",\n",
    "    \"bathrooms\": Tokyo_Q4_cleaned[\"bathrooms\"].median(),\n",
    "    \"bedrooms\": Tokyo_Q4_cleaned[\"bedrooms\"].median(),\n",
    "    \"beds\": Tokyo_Q4_cleaned[\"beds\"].median(),\n",
    "    \"review_scores_rating\": 0,\n",
    "    \"review_scores_accuracy\": 0,\n",
    "    \"review_scores_cleanliness\": 0,\n",
    "    \"review_scores_checkin\": 0,\n",
    "    \"review_scores_communication\": 0,\n",
    "    \"review_scores_location\": 0,\n",
    "    \"review_scores_value\": 0,\n",
    "    \"reviews_per_month\": 0}\n",
    "Tokyo_Q4_cleaned.fillna(fillna_dict, inplace=True)"
   ]
  },
  {
   "cell_type": "code",
   "execution_count": 191,
   "id": "d919b651-905e-4d56-9c12-3102fe3d00e7",
   "metadata": {},
   "outputs": [],
   "source": [
    "# Price Check\n",
    "Tokyo_Q4_cleaned[\"price\"] = (\n",
    "    Tokyo_Q4_cleaned[\"price\"]\n",
    "    .astype(str)\n",
    "    .str.replace(\"$\", \"\")\n",
    "    .str.replace(\",\", \"\")\n",
    "    .astype(float))\n",
    "\n",
    "# Rate Check\n",
    "Tokyo_Q4_cleaned[\"host_response_rate\"] = (\n",
    "    Tokyo_Q4_cleaned[\"host_response_rate\"]\n",
    "    .str.replace(\"%\", \"\")\n",
    "    .astype(float))\n",
    "Tokyo_Q4_cleaned[\"host_acceptance_rate\"] = (\n",
    "    Tokyo_Q4_cleaned[\"host_acceptance_rate\"]\n",
    "    .str.replace(\"%\", \"\")\n",
    "    .astype(float))\n",
    "\n",
    "# Date Check\n",
    "date_cols = [\"host_since\", \"first_review\", \"last_review\"]\n",
    "for col in date_cols:\n",
    "    Tokyo_Q4_cleaned[col] = pd.to_datetime(Tokyo_Q4_cleaned[col], errors=\"coerce\")\n",
    "\n",
    "# TF Result Check\n",
    "bool_cols = [\"instant_bookable\", \"host_is_superhost\", \"host_identity_verified\"]\n",
    "for col in bool_cols:\n",
    "    Tokyo_Q4_cleaned[col] = Tokyo_Q4_cleaned[col].map({\"t\": True, \"f\": False})\n",
    "\n",
    "# Calculate Landlord Experience\n",
    "Tokyo_Q4_cleaned[\"host_experience\"] = 2024 - Tokyo_Q4_cleaned[\"host_since\"].dt.year\n",
    "\n",
    "# Facility Pick-Up\n",
    "important_amenities = [\"Wifi\", \"Kitchen\", \"Washer\", \"Air conditioning\", \"Heating\", \"TV\", \"Elevator\"]\n",
    "for amenity in important_amenities:\n",
    "    Tokyo_Q4_cleaned[f\"has_{amenity.lower().replace(' ', '_')}\"] = Tokyo_Q4_cleaned[\"amenities\"].apply(lambda x: amenity in x)\n",
    "\n",
    "# Calculate Distance from Centre\n",
    "tokyo_center = (35.682839, 139.759455)\n",
    "Tokyo_Q4_cleaned[\"distance_from_center\"] = Tokyo_Q4_cleaned.apply(lambda row: geodesic((row[\"latitude\"], row[\"longitude\"]), tokyo_center).km, axis=1)"
   ]
  },
  {
   "cell_type": "code",
   "execution_count": 193,
   "id": "5834e9cf-0e79-4e15-93e9-7790a5b52008",
   "metadata": {},
   "outputs": [],
   "source": [
    "columns_to_drop_final = [\"bathrooms_text\", \"host_about\", \"host_location\", \"host_verifications\",\n",
    "                         \"host_has_profile_pic\", \"license\", \"amenities\", \"latitude\", \"longitude\"]\n",
    "Tokyo_Q4_cleaned = Tokyo_Q4_cleaned.drop(columns=columns_to_drop_final)\n",
    "rename_dict = {\n",
    "    \"review_scores_communication\": \"review_communication_score\",\n",
    "    \"review_scores_location\": \"review_location_score\",\n",
    "    \"review_scores_value\": \"review_value_score\",\n",
    "    \"host_total_listings_count\": \"total_listings_by_host\"}\n",
    "Tokyo_Q4_cleaned.rename(columns=rename_dict, inplace=True)"
   ]
  },
  {
   "cell_type": "code",
   "execution_count": 195,
   "id": "a42878dc-78ce-4b2e-9957-3f7d41c35785",
   "metadata": {},
   "outputs": [],
   "source": [
    "columns_to_remove = [\"last_scraped\", \"name\", \"description\", \"neighborhood_overview\", \"host_name\"]\n",
    "Tokyo_Q4_cleaned.drop(columns=columns_to_remove, inplace=True, errors=\"ignore\")\n",
    "Tokyo_Q4_cleaned[\"host_since\"] = pd.to_datetime(Tokyo_Q4_cleaned[\"host_since\"], errors=\"coerce\")\n",
    "Tokyo_Q4_cleaned[\"host_experience_years\"] = 2024 - Tokyo_Q4_cleaned[\"host_since\"].dt.year\n",
    "Tokyo_Q4_cleaned.drop(columns=[\"host_since\"], inplace=True)"
   ]
  },
  {
   "cell_type": "code",
   "execution_count": 197,
   "id": "dceccba8-673a-4be1-8a1a-be325bfec21c",
   "metadata": {},
   "outputs": [],
   "source": [
    "response_time_mapping = {\n",
    "    \"within an hour\": 1,\n",
    "    \"within a few hours\": 2,\n",
    "    \"within a day\": 3,\n",
    "    \"a few days or more\": 4,\n",
    "    \"Unknown\": 5}\n",
    "Tokyo_Q4_cleaned[\"host_response_time\"] = Tokyo_Q4_cleaned[\"host_response_time\"].map(response_time_mapping).fillna(5).astype(int)"
   ]
  },
  {
   "cell_type": "code",
   "execution_count": 199,
   "id": "e4c6562e-5b7f-44cf-995c-fa7d14af9b89",
   "metadata": {},
   "outputs": [
    {
     "name": "stderr",
     "output_type": "stream",
     "text": [
      "/var/folders/69/fws7qnp96rx9nd3jbrt3d3jw0000gn/T/ipykernel_30342/2494643412.py:7: FutureWarning: Downcasting object dtype arrays on .fillna, .ffill, .bfill is deprecated and will change in a future version. Call result.infer_objects(copy=False) instead. To opt-in to the future behavior, set `pd.set_option('future.no_silent_downcasting', True)`\n",
      "  Tokyo_Q4_cleaned[col] = Tokyo_Q4_cleaned[col].fillna(False).astype(bool).astype(int)\n",
      "/var/folders/69/fws7qnp96rx9nd3jbrt3d3jw0000gn/T/ipykernel_30342/2494643412.py:7: FutureWarning: Downcasting object dtype arrays on .fillna, .ffill, .bfill is deprecated and will change in a future version. Call result.infer_objects(copy=False) instead. To opt-in to the future behavior, set `pd.set_option('future.no_silent_downcasting', True)`\n",
      "  Tokyo_Q4_cleaned[col] = Tokyo_Q4_cleaned[col].fillna(False).astype(bool).astype(int)\n"
     ]
    }
   ],
   "source": [
    "binary_columns = [\"instant_bookable\", \"host_is_superhost\", \"host_identity_verified\",\n",
    "                  \"has_wifi\", \"has_kitchen\", \"has_washer\", \"has_air_conditioning\",\n",
    "                  \"has_heating\", \"has_tv\", \"has_elevator\"]\n",
    "\n",
    "for col in binary_columns:\n",
    "    if col in Tokyo_Q4_cleaned.columns:\n",
    "        Tokyo_Q4_cleaned[col] = Tokyo_Q4_cleaned[col].fillna(False).astype(bool).astype(int)"
   ]
  },
  {
   "cell_type": "code",
   "execution_count": 201,
   "id": "d3e9a53d-9241-4941-b787-824deed77c12",
   "metadata": {},
   "outputs": [],
   "source": [
    "categorical_columns = Tokyo_Q4_cleaned.select_dtypes(include=[\"object\"]).columns\n",
    "for col in categorical_columns:\n",
    "    Tokyo_Q4_cleaned[col] = Tokyo_Q4_cleaned[col].astype(\"category\").cat.codes"
   ]
  },
  {
   "cell_type": "code",
   "execution_count": 203,
   "id": "c7f3b4ec-78ba-48a0-ac27-ec9a40e2cdcc",
   "metadata": {},
   "outputs": [],
   "source": [
    "log_transform_columns = [\"price\", \"reviews_per_month\", \"distance_from_center\"]\n",
    "for col in log_transform_columns:\n",
    "    if col in Tokyo_Q4_cleaned.columns and Tokyo_Q4_cleaned[col].min() > 0:\n",
    "        Tokyo_Q4_cleaned[col] = Tokyo_Q4_cleaned[col].apply(lambda x: np.log1p(x))"
   ]
  },
  {
   "cell_type": "code",
   "execution_count": 205,
   "id": "9b35c7a9-7dad-452a-a18b-385db2bc2cd9",
   "metadata": {},
   "outputs": [
    {
     "name": "stdout",
     "output_type": "stream",
     "text": [
      "        id  host_response_time  host_response_rate  host_acceptance_rate  \\\n",
      "0   197677                   3               100.0                  93.0   \n",
      "1   776070                   1               100.0                 100.0   \n",
      "2   905944                   1               100.0                 100.0   \n",
      "3  1016831                   2               100.0                 100.0   \n",
      "4  1196177                   1               100.0                  92.0   \n",
      "\n",
      "   host_is_superhost  host_listings_count  total_listings_by_host  \\\n",
      "0                  1                  1.0                     2.0   \n",
      "1                  1                  1.0                     6.0   \n",
      "2                  1                  9.0                    18.0   \n",
      "3                  1                  1.0                     6.0   \n",
      "4                  1                  1.0                     2.0   \n",
      "\n",
      "   host_identity_verified  neighbourhood_cleansed  property_type  ...  \\\n",
      "0                       1                      44             12  ...   \n",
      "1                       1                      19             27  ...   \n",
      "2                       0                      40             12  ...   \n",
      "3                       1                      39             27  ...   \n",
      "4                       1                       0             27  ...   \n",
      "\n",
      "   host_experience  has_wifi  has_kitchen  has_washer  has_air_conditioning  \\\n",
      "0             13.0         1            1           0                     1   \n",
      "1             13.0         1            0           0                     1   \n",
      "2             11.0         1            1           0                     0   \n",
      "3             11.0         0            1           0                     0   \n",
      "4             11.0         0            0           0                     0   \n",
      "\n",
      "   has_heating  has_tv  has_elevator  distance_from_center  \\\n",
      "0            1       1             0              2.095104   \n",
      "1            1       1             0              1.978441   \n",
      "2            0       1             0              2.121667   \n",
      "3            1       1             0              2.244990   \n",
      "4            1       1             0              2.153524   \n",
      "\n",
      "   host_experience_years  \n",
      "0                   13.0  \n",
      "1                   13.0  \n",
      "2                   11.0  \n",
      "3                   11.0  \n",
      "4                   11.0  \n",
      "\n",
      "[5 rows x 48 columns]\n"
     ]
    }
   ],
   "source": [
    "print(Tokyo_Q4_cleaned.head())\n",
    "Tokyo_Q4_cleaned.to_csv(\"Tokyo_Q4_cleaned.csv\", index=False)"
   ]
  },
  {
   "cell_type": "markdown",
   "id": "bd40a2a7-6dcc-4c23-8303-71646351cee7",
   "metadata": {
    "jp-MarkdownHeadingCollapsed": true
   },
   "source": [
    "### Bangkok Q3 Data Cleaning"
   ]
  },
  {
   "cell_type": "code",
   "execution_count": 211,
   "id": "fe88102f-8af2-4afc-918a-521c0eb75fd6",
   "metadata": {},
   "outputs": [],
   "source": [
    "columns_to_drop = [\n",
    "    \"scrape_id\", \"source\", \"neighbourhood_group_cleansed\", \"calendar_updated\", \"listing_url\", \"picture_url\", \n",
    "    \"host_url\", \"host_thumbnail_url\", \"host_picture_url\", \"host_neighbourhood\", \"neighbourhood\", \"calendar_last_scraped\",\n",
    "    \"minimum_minimum_nights\", \"maximum_minimum_nights\", \"minimum_maximum_nights\", \"maximum_maximum_nights\", \n",
    "    \"minimum_nights_avg_ntm\", \"maximum_nights_avg_ntm\", \"calculated_host_listings_count_entire_homes\", \n",
    "    \"calculated_host_listings_count_private_rooms\", \"calculated_host_listings_count_shared_rooms\", \"host_id\"]\n",
    "Bangkok_Q3_cleaned = Bangkok_Q3.drop(columns=columns_to_drop)\n",
    "\n",
    "fillna_dict = {\n",
    "    \"description\": \"\",\n",
    "    \"neighborhood_overview\": \"\",\n",
    "    \"host_about\": \"\",\n",
    "    \"host_location\": \"Unknown\",\n",
    "    \"host_response_time\": \"Unknown\",\n",
    "    \"host_response_rate\": \"0%\",\n",
    "    \"host_acceptance_rate\": \"0%\",\n",
    "    \"bathrooms\": Bangkok_Q3_cleaned[\"bathrooms\"].median(),\n",
    "    \"bedrooms\": Bangkok_Q3_cleaned[\"bedrooms\"].median(),\n",
    "    \"beds\": Bangkok_Q3_cleaned[\"beds\"].median(),\n",
    "    \"review_scores_rating\": 0,\n",
    "    \"review_scores_accuracy\": 0,\n",
    "    \"review_scores_cleanliness\": 0,\n",
    "    \"review_scores_checkin\": 0,\n",
    "    \"review_scores_communication\": 0,\n",
    "    \"review_scores_location\": 0,\n",
    "    \"review_scores_value\": 0,\n",
    "    \"reviews_per_month\": 0}\n",
    "Bangkok_Q3_cleaned.fillna(fillna_dict, inplace=True)"
   ]
  },
  {
   "cell_type": "code",
   "execution_count": 213,
   "id": "d756323e-26fa-401c-bacc-b42d73c4add0",
   "metadata": {},
   "outputs": [],
   "source": [
    "# Price Check\n",
    "Bangkok_Q3_cleaned[\"price\"] = (\n",
    "    Bangkok_Q3_cleaned[\"price\"]\n",
    "    .astype(str)\n",
    "    .str.replace(\"$\", \"\")\n",
    "    .str.replace(\",\", \"\")\n",
    "    .astype(float))\n",
    "\n",
    "# Rate Check\n",
    "Bangkok_Q3_cleaned[\"host_response_rate\"] = (\n",
    "    Bangkok_Q3_cleaned[\"host_response_rate\"]\n",
    "    .str.replace(\"%\", \"\")\n",
    "    .astype(float))\n",
    "Bangkok_Q3_cleaned[\"host_acceptance_rate\"] = (\n",
    "    Bangkok_Q3_cleaned[\"host_acceptance_rate\"]\n",
    "    .str.replace(\"%\", \"\")\n",
    "    .astype(float))\n",
    "\n",
    "# Date Check\n",
    "date_cols = [\"host_since\", \"first_review\", \"last_review\"]\n",
    "for col in date_cols:\n",
    "    Bangkok_Q3_cleaned[col] = pd.to_datetime(Bangkok_Q3_cleaned[col], errors=\"coerce\")\n",
    "\n",
    "# TF Result Check\n",
    "bool_cols = [\"instant_bookable\", \"host_is_superhost\", \"host_identity_verified\"]\n",
    "for col in bool_cols:\n",
    "    Bangkok_Q3_cleaned[col] = Bangkok_Q3_cleaned[col].map({\"t\": True, \"f\": False})\n",
    "\n",
    "# Calculate Landlord Experience\n",
    "Bangkok_Q3_cleaned[\"host_experience\"] = 2024 - Bangkok_Q3_cleaned[\"host_since\"].dt.year\n",
    "\n",
    "# Facility Pick-Up\n",
    "important_amenities = [\"Wifi\", \"Kitchen\", \"Washer\", \"Air conditioning\", \"Heating\", \"TV\", \"Elevator\"]\n",
    "for amenity in important_amenities:\n",
    "    Bangkok_Q3_cleaned[f\"has_{amenity.lower().replace(' ', '_')}\"] = Bangkok_Q3_cleaned[\"amenities\"].apply(lambda x: amenity in x)\n",
    "\n",
    "# Calculate Distance from Centre\n",
    "bangkok_center = (13.7563, 100.5018)\n",
    "Bangkok_Q3_cleaned[\"distance_from_center\"] = Bangkok_Q3_cleaned.apply(lambda row: geodesic((row[\"latitude\"], row[\"longitude\"]), bangkok_center).km, axis=1)"
   ]
  },
  {
   "cell_type": "code",
   "execution_count": 215,
   "id": "1920f1cc-c8a3-4e78-bc28-9921b33d7789",
   "metadata": {},
   "outputs": [],
   "source": [
    "columns_to_drop_final = [\"bathrooms_text\", \"host_about\", \"host_location\", \"host_verifications\",\n",
    "                         \"host_has_profile_pic\", \"license\", \"amenities\", \"latitude\", \"longitude\"]\n",
    "Bangkok_Q3_cleaned = Bangkok_Q3_cleaned.drop(columns=columns_to_drop_final)\n",
    "rename_dict = {\n",
    "    \"review_scores_communication\": \"review_communication_score\",\n",
    "    \"review_scores_location\": \"review_location_score\",\n",
    "    \"review_scores_value\": \"review_value_score\",\n",
    "    \"host_total_listings_count\": \"total_listings_by_host\"}\n",
    "Bangkok_Q3_cleaned.rename(columns=rename_dict, inplace=True)"
   ]
  },
  {
   "cell_type": "code",
   "execution_count": 217,
   "id": "4d2fce82-1e31-4dff-a03d-a7fd58d28da2",
   "metadata": {},
   "outputs": [],
   "source": [
    "columns_to_remove = [\"last_scraped\", \"name\", \"description\", \"neighborhood_overview\", \"host_name\"]\n",
    "Bangkok_Q3_cleaned.drop(columns=columns_to_remove, inplace=True, errors=\"ignore\")\n",
    "Bangkok_Q3_cleaned[\"host_since\"] = pd.to_datetime(Bangkok_Q3_cleaned[\"host_since\"], errors=\"coerce\")\n",
    "Bangkok_Q3_cleaned[\"host_experience_years\"] = 2024 - Bangkok_Q3_cleaned[\"host_since\"].dt.year\n",
    "Bangkok_Q3_cleaned.drop(columns=[\"host_since\"], inplace=True)"
   ]
  },
  {
   "cell_type": "code",
   "execution_count": 219,
   "id": "be8d1d6d-0b7d-4e64-8c9a-c66aeab14178",
   "metadata": {},
   "outputs": [],
   "source": [
    "response_time_mapping = {\n",
    "    \"within an hour\": 1,\n",
    "    \"within a few hours\": 2,\n",
    "    \"within a day\": 3,\n",
    "    \"a few days or more\": 4,\n",
    "    \"Unknown\": 5}\n",
    "Bangkok_Q3_cleaned[\"host_response_time\"] = Bangkok_Q3_cleaned[\"host_response_time\"].map(response_time_mapping).fillna(5).astype(int)"
   ]
  },
  {
   "cell_type": "code",
   "execution_count": 221,
   "id": "8160dade-502d-40be-b276-800a402ce54f",
   "metadata": {},
   "outputs": [
    {
     "name": "stderr",
     "output_type": "stream",
     "text": [
      "/var/folders/69/fws7qnp96rx9nd3jbrt3d3jw0000gn/T/ipykernel_30342/462647858.py:7: FutureWarning: Downcasting object dtype arrays on .fillna, .ffill, .bfill is deprecated and will change in a future version. Call result.infer_objects(copy=False) instead. To opt-in to the future behavior, set `pd.set_option('future.no_silent_downcasting', True)`\n",
      "  Bangkok_Q3_cleaned[col] = Bangkok_Q3_cleaned[col].fillna(False).astype(bool).astype(int)\n"
     ]
    }
   ],
   "source": [
    "binary_columns = [\"instant_bookable\", \"host_is_superhost\", \"host_identity_verified\",\n",
    "                  \"has_wifi\", \"has_kitchen\", \"has_washer\", \"has_air_conditioning\",\n",
    "                  \"has_heating\", \"has_tv\", \"has_elevator\"]\n",
    "\n",
    "for col in binary_columns:\n",
    "    if col in Bangkok_Q3_cleaned.columns:\n",
    "        Bangkok_Q3_cleaned[col] = Bangkok_Q3_cleaned[col].fillna(False).astype(bool).astype(int)"
   ]
  },
  {
   "cell_type": "code",
   "execution_count": 223,
   "id": "db754e5e-afa3-46be-bf37-58ca0f04bab3",
   "metadata": {},
   "outputs": [],
   "source": [
    "categorical_columns = Bangkok_Q3_cleaned.select_dtypes(include=[\"object\"]).columns\n",
    "for col in categorical_columns:\n",
    "    Bangkok_Q3_cleaned[col] = Bangkok_Q3_cleaned[col].astype(\"category\").cat.codes\n",
    "\n",
    "log_transform_columns = [\"price\", \"reviews_per_month\", \"distance_from_center\"]\n",
    "for col in log_transform_columns:\n",
    "    if col in Bangkok_Q3_cleaned.columns and Bangkok_Q3_cleaned[col].min() > 0:\n",
    "        Bangkok_Q3_cleaned[col] = Bangkok_Q3_cleaned[col].apply(lambda x: np.log1p(x))"
   ]
  },
  {
   "cell_type": "code",
   "execution_count": 225,
   "id": "fdf69e93-e187-4371-98e9-49c150591f7b",
   "metadata": {},
   "outputs": [
    {
     "name": "stdout",
     "output_type": "stream",
     "text": [
      "      id  host_response_time  host_response_rate  host_acceptance_rate  \\\n",
      "0  27934                   1               100.0                  92.0   \n",
      "1  27979                   5                 0.0                   0.0   \n",
      "2  28745                   5                 0.0                   0.0   \n",
      "3  35780                   1               100.0                  93.0   \n",
      "4  48736                   5                 0.0                 100.0   \n",
      "\n",
      "   host_is_superhost  host_listings_count  total_listings_by_host  \\\n",
      "0                  0                    2                       2   \n",
      "1                  0                    2                       4   \n",
      "2                  0                    1                       1   \n",
      "3                  0                    2                       5   \n",
      "4                  0                    1                       1   \n",
      "\n",
      "   host_identity_verified  neighbourhood_cleansed  property_type  ...  \\\n",
      "0                       1                      37              7  ...   \n",
      "1                       0                       6             48  ...   \n",
      "2                       0                       1             48  ...   \n",
      "3                       1                      15             48  ...   \n",
      "4                       1                      36             48  ...   \n",
      "\n",
      "   host_experience  has_wifi  has_kitchen  has_washer  has_air_conditioning  \\\n",
      "0               14         1            1           1                     1   \n",
      "1               14         1            1           1                     0   \n",
      "2               14         0            0           0                     0   \n",
      "3               14         0            1           0                     1   \n",
      "4               14         0            1           0                     1   \n",
      "\n",
      "   has_heating  has_tv  has_elevator  distance_from_center  \\\n",
      "0            0       0             1              1.666554   \n",
      "1            1       1             1              2.821344   \n",
      "2            0       0             0              2.647365   \n",
      "3            0       1             1              2.243689   \n",
      "4            0       0             1              2.181262   \n",
      "\n",
      "   host_experience_years  \n",
      "0                     14  \n",
      "1                     14  \n",
      "2                     14  \n",
      "3                     14  \n",
      "4                     14  \n",
      "\n",
      "[5 rows x 48 columns]\n"
     ]
    }
   ],
   "source": [
    "print(Bangkok_Q3_cleaned.head())\n",
    "Bangkok_Q3_cleaned.to_csv(\"Bangkok_Q3_cleaned.csv\", index=False)"
   ]
  },
  {
   "cell_type": "markdown",
   "id": "85bceb52-3527-4761-8f7d-7288bd7fe6bb",
   "metadata": {
    "jp-MarkdownHeadingCollapsed": true
   },
   "source": [
    "## Data Analysis"
   ]
  },
  {
   "cell_type": "markdown",
   "id": "47bfa5ed-1f2d-4491-80e0-beaa7133f5a8",
   "metadata": {
    "jp-MarkdownHeadingCollapsed": true
   },
   "source": [
    "### Tokyo Q3 Data Analysis"
   ]
  },
  {
   "cell_type": "code",
   "execution_count": 155,
   "id": "386726a7-b917-453f-8738-9daa95dbfcb6",
   "metadata": {},
   "outputs": [],
   "source": [
    "numeric_features = Tokyo_Q3_cleaned.select_dtypes(include=[np.number]).columns.tolist()\n",
    "features = [col for col in numeric_features if col not in [\"id\", \"price\"]]\n",
    "Tokyo_Q3_cleaned[features] = Tokyo_Q3_cleaned[features].astype(float)\n",
    "scaler = StandardScaler()\n",
    "Tokyo_Q3_cleaned[features] = scaler.fit_transform(Tokyo_Q3_cleaned[features])"
   ]
  },
  {
   "cell_type": "code",
   "execution_count": 157,
   "id": "90348c4b-b759-4522-acac-da20f15cf227",
   "metadata": {},
   "outputs": [],
   "source": [
    "X = Tokyo_Q3_cleaned[features]\n",
    "y = Tokyo_Q3_cleaned[\"price\"].fillna(Tokyo_Q3_cleaned[\"price\"].median())\n",
    "X_train, X_test, y_train, y_test = train_test_split(X, y, test_size=0.2, random_state=42)\n",
    "\n",
    "X_train.fillna(X_train.median(), inplace=True)\n",
    "X_test.fillna(X_test.median(), inplace=True)"
   ]
  },
  {
   "cell_type": "code",
   "execution_count": 159,
   "id": "3302ebbc-d0c8-433f-867c-f374c897eba4",
   "metadata": {},
   "outputs": [],
   "source": [
    "models = {\"OLS\": LinearRegression(),\n",
    "          \"LASSO\": Lasso(alpha=0.01, max_iter=5000),\n",
    "          \"Random Forest\": RandomForestRegressor(n_estimators=50, random_state=42),\n",
    "          \"Gradient Boosting\": GradientBoostingRegressor(n_estimators=200, learning_rate=0.05, random_state=42),\n",
    "          \"XGBoost\": XGBRegressor(n_estimators=200, learning_rate=0.05, random_state=42)}"
   ]
  },
  {
   "cell_type": "code",
   "execution_count": 173,
   "id": "dec9e013-8d7f-4a87-8323-189d535d75e7",
   "metadata": {},
   "outputs": [],
   "source": [
    "def get_rmse(actual, pred):\n",
    "    return np.sqrt(mean_squared_error(actual, pred))\n",
    "\n",
    "def cross_val_rmse(model, X, y, k=5):\n",
    "    kf = KFold(n_splits=k, shuffle=True, random_state=42)\n",
    "    mse_scores = cross_val_score(model, X, y, scoring='neg_mean_squared_error', cv=kf)\n",
    "    return np.sqrt(-mse_scores.mean())"
   ]
  },
  {
   "cell_type": "code",
   "execution_count": 175,
   "id": "1888d066-6288-4506-a9c5-a019b30ea11a",
   "metadata": {},
   "outputs": [
    {
     "name": "stdout",
     "output_type": "stream",
     "text": [
      "Horserace Table: Model Performance Comparison\n",
      "               Model      RMSE   CV-RMSE  R2 Score  Training Time\n",
      "4            XGBoost  0.321037  0.367360  0.736746       1.009687\n",
      "2      Random Forest  0.330408  0.388508  0.721153      12.168352\n",
      "3  Gradient Boosting  0.367575  0.388487  0.654890       9.454523\n",
      "0                OLS  0.441133  0.459227  0.502945       0.025872\n",
      "1              LASSO  0.451822  0.466746  0.478565       0.017134\n"
     ]
    }
   ],
   "source": [
    "def evaluate_models(models, X_train, X_test, y_train, y_test, X, y):\n",
    "    results = []\n",
    "    fitted_models = {}\n",
    "    \n",
    "    for name, model in models.items():\n",
    "        start_time = time.time()\n",
    "        model.fit(X_train, y_train)\n",
    "        training_time = time.time() - start_time\n",
    "\n",
    "        y_pred = model.predict(X_test)\n",
    "        rmse = get_rmse(y_test, y_pred)\n",
    "        r2 = r2_score(y_test, y_pred)\n",
    "        cv_rmse = cross_val_rmse(model, X, y)\n",
    "        cv_scores = cross_val_score(model, X, y, scoring='neg_mean_squared_error', cv=5)\n",
    "        cv_rmse = np.sqrt(-cv_scores.mean())\n",
    "\n",
    "        results.append([name, rmse, cv_rmse, r2, training_time])\n",
    "        fitted_models[name] = model\n",
    "\n",
    "    columns = [\"Model\", \"RMSE\", \"CV-RMSE\", \"R2 Score\", \"Training Time\"]\n",
    "    results_df = pd.DataFrame(results, columns=columns)\n",
    "    return results_df.sort_values(by=\"RMSE\")\n",
    "\n",
    "results_df = evaluate_models(models, X_train, X_test, y_train, y_test, X, y)\n",
    "print(\"Horserace Table: Model Performance Comparison\")\n",
    "print(results_df)"
   ]
  },
  {
   "cell_type": "code",
   "execution_count": 177,
   "id": "f5258299-3130-4f69-a7a5-2aa85322b2a7",
   "metadata": {},
   "outputs": [
    {
     "data": {
      "image/png": "[encoded data removed]",
      "text/plain": [
       "<Figure size 800x800 with 1 Axes>"
      ]
     },
     "metadata": {},
     "output_type": "display_data"
    }
   ],
   "source": [
    "# Radargram Visualisation Results\n",
    "labels = [\"RMSE\", \"CV-RMSE\", \"R2 Score\", \"Training Time\"]\n",
    "num_vars = len(labels)\n",
    "\n",
    "df_plot = results_df.copy()\n",
    "df_plot.set_index(\"Model\", inplace=True)\n",
    "df_norm = (df_plot - df_plot.min()) / (df_plot.max() - df_plot.min())\n",
    "\n",
    "angles = np.linspace(0, 2 * np.pi, num_vars, endpoint=False).tolist()\n",
    "angles += angles[:1]\n",
    "\n",
    "fig, ax = plt.subplots(figsize=(8, 8), subplot_kw=dict(polar=True))\n",
    "for model_name, row in df_norm.iterrows():\n",
    "    values = row[labels].tolist()\n",
    "    values += values[:1]\n",
    "    ax.plot(angles, values, label=model_name)\n",
    "    ax.fill(angles, values, alpha=0.1)\n",
    "\n",
    "ax.set_xticks(angles[:-1])\n",
    "ax.set_xticklabels(labels)\n",
    "\n",
    "plt.title(\"Model Performance Radar Chart\", size=15, pad=20)\n",
    "plt.legend(loc='upper right', bbox_to_anchor=(1.3, 1.1))\n",
    "plt.show()\n"
   ]
  },
  {
   "cell_type": "code",
   "execution_count": 181,
   "id": "ef48f90a-5af6-4691-8afa-6b5085bdde77",
   "metadata": {},
   "outputs": [
    {
     "name": "stdout",
     "output_type": "stream",
     "text": [
      "Random Forest Top 10 Features\n",
      "                   Feature  Importance\n",
      "10            accommodates    0.341205\n",
      "42    distance_from_center    0.087963\n",
      "20        availability_365    0.044038\n",
      "12                bedrooms    0.042321\n",
      "11               bathrooms    0.040598\n",
      "7   neighbourhood_cleansed    0.037030\n",
      "13                    beds    0.033308\n",
      "18         availability_60    0.025222\n",
      "8            property_type    0.024636\n",
      "19         availability_90    0.022556\n",
      "\n",
      "XGBoost Top 10 Features\n",
      "                      Feature  Importance\n",
      "10               accommodates    0.272517\n",
      "12                   bedrooms    0.099705\n",
      "11                  bathrooms    0.067978\n",
      "9                   room_type    0.048663\n",
      "41               has_elevator    0.036568\n",
      "42       distance_from_center    0.028461\n",
      "13                       beds    0.025326\n",
      "26  review_scores_cleanliness    0.022910\n",
      "39                has_heating    0.022891\n",
      "40                     has_tv    0.020876\n"
     ]
    },
    {
     "data": {
      "image/png": "[encoded data removed]",
      "text/plain": [
       "<Figure size 1200x600 with 1 Axes>"
      ]
     },
     "metadata": {},
     "output_type": "display_data"
    },
    {
     "data": {
      "image/png": "[encoded data removed]",
      "text/plain": [
       "<Figure size 1200x600 with 1 Axes>"
      ]
     },
     "metadata": {},
     "output_type": "display_data"
    }
   ],
   "source": [
    "rf_model = models[\"Random Forest\"]\n",
    "xgb_model = models[\"XGBoost\"]\n",
    "\n",
    "rf_importance = pd.DataFrame({\"Feature\": X.columns, \"Importance\": rf_model.feature_importances_})\n",
    "xgb_importance = pd.DataFrame({\"Feature\": X.columns, \"Importance\": xgb_model.feature_importances_})\n",
    "\n",
    "# Choose top 10\n",
    "rf_top10 = rf_importance.sort_values(by=\"Importance\", ascending=False).head(10)\n",
    "xgb_top10 = xgb_importance.sort_values(by=\"Importance\", ascending=False).head(10)\n",
    "\n",
    "print(\"Random Forest Top 10 Features\")\n",
    "print(rf_top10)\n",
    "print(\"\\nXGBoost Top 10 Features\")\n",
    "print(xgb_top10)\n",
    "\n",
    "plt.figure(figsize=(12, 6))\n",
    "plt.barh(rf_top10[\"Feature\"], rf_top10[\"Importance\"], color='skyblue')\n",
    "plt.xlabel(\"Feature Importance\")\n",
    "plt.ylabel(\"Feature\")\n",
    "plt.title(\"Random Forest - Top 10 Features\")\n",
    "plt.gca().invert_yaxis()\n",
    "plt.show()\n",
    "\n",
    "plt.figure(figsize=(12, 6))\n",
    "plt.barh(xgb_top10[\"Feature\"], xgb_top10[\"Importance\"], color='salmon')\n",
    "plt.xlabel(\"Feature Importance\")\n",
    "plt.ylabel(\"Feature\")\n",
    "plt.title(\"XGBoost - Top 10 Features\")\n",
    "plt.gca().invert_yaxis()\n",
    "plt.show()"
   ]
  },
  {
   "cell_type": "markdown",
   "id": "8160a952-52a6-4245-b623-d02e31c208fb",
   "metadata": {},
   "source": [
    "### Validity"
   ]
  },
  {
   "cell_type": "markdown",
   "id": "a9d10fe9-26f9-4559-b5de-346496f47aa5",
   "metadata": {
    "jp-MarkdownHeadingCollapsed": true
   },
   "source": [
    "#### Tokyo Q4"
   ]
  },
  {
   "cell_type": "code",
   "execution_count": 229,
   "id": "cb18e05a-ebac-48bc-96de-7bfd52715ffd",
   "metadata": {},
   "outputs": [],
   "source": [
    "numeric_features = Tokyo_Q4_cleaned.select_dtypes(include=[np.number]).columns.tolist()\n",
    "features = [col for col in numeric_features if col not in [\"id\", \"price\"]]\n",
    "Tokyo_Q4_cleaned[features] = Tokyo_Q4_cleaned[features].astype(float)\n",
    "scaler = StandardScaler()\n",
    "Tokyo_Q4_cleaned[features] = scaler.fit_transform(Tokyo_Q4_cleaned[features])"
   ]
  },
  {
   "cell_type": "code",
   "execution_count": 233,
   "id": "1964b6d4-f6a3-4710-a59d-28e8e2c13c94",
   "metadata": {},
   "outputs": [],
   "source": [
    "X_Tokyo_Q4 = Tokyo_Q4_cleaned[features]\n",
    "y_Tokyo_Q4 = Tokyo_Q4_cleaned[\"price\"].fillna(Tokyo_Q4_cleaned[\"price\"].median())\n",
    "\n",
    "X_train_Tokyo_Q4, X_test_Tokyo_Q4, y_train_Tokyo_Q4, y_test_Tokyo_Q4 = train_test_split(\n",
    "    X_Tokyo_Q4, y_Tokyo_Q4, test_size=0.2, random_state=42)\n",
    "\n",
    "X_train_Tokyo_Q4.fillna(X_train_Tokyo_Q4.median(), inplace=True)\n",
    "X_test_Tokyo_Q4.fillna(X_test_Tokyo_Q4.median(), inplace=True)"
   ]
  },
  {
   "cell_type": "code",
   "execution_count": 237,
   "id": "8ffdc0c0-4656-4c19-9dc6-51aac27a31ba",
   "metadata": {},
   "outputs": [],
   "source": [
    "def get_rmse_Tokyo_Q4(actual_Tokyo_Q4, pred_Tokyo_Q4):\n",
    "    return np.sqrt(mean_squared_error(actual_Tokyo_Q4, pred_Tokyo_Q4))\n",
    "\n",
    "def cross_val_rmse_Tokyo_Q4(model, X_Tokyo_Q4, y_Tokyo_Q4, k=5):\n",
    "    kf_Tokyo_Q4 = KFold(n_splits=k, shuffle=True, random_state=42)\n",
    "    mse_scores_Tokyo_Q4 = cross_val_score(\n",
    "        model, \n",
    "        X_Tokyo_Q4, \n",
    "        y_Tokyo_Q4, \n",
    "        scoring='neg_mean_squared_error', \n",
    "        cv=kf_Tokyo_Q4)\n",
    "    return np.sqrt(-mse_scores_Tokyo_Q4.mean())"
   ]
  },
  {
   "cell_type": "code",
   "execution_count": 248,
   "id": "99131b8e-85e7-4dd7-8012-fab97d1b5c3b",
   "metadata": {},
   "outputs": [
    {
     "name": "stdout",
     "output_type": "stream",
     "text": [
      "Horserace Table: Model Performance Comparison for Tokyo_Q4\n",
      "               Model      RMSE   CV-RMSE  R2 Score  Training Time\n",
      "2      Random Forest  0.379098  0.440083  0.671968      13.169984\n",
      "4            XGBoost  0.384353  0.424673  0.662811       0.507627\n",
      "3  Gradient Boosting  0.434038  0.443611  0.570001      10.021417\n",
      "0                OLS  0.492036  0.493609  0.447406       0.030289\n",
      "1              LASSO  0.497970  0.494033  0.433998       0.015461\n"
     ]
    }
   ],
   "source": [
    "results_df_Tokyo_Q4 = evaluate_models(models, X_train_Tokyo_Q4, X_test_Tokyo_Q4, \n",
    "                                      y_train_Tokyo_Q4, y_test_Tokyo_Q4, X_Tokyo_Q4, y_Tokyo_Q4)\n",
    "\n",
    "print(\"Horserace Table: Model Performance Comparison for Tokyo_Q4\")\n",
    "print(results_df_Tokyo_Q4)"
   ]
  },
  {
   "cell_type": "markdown",
   "id": "d2fc53b9-f6e9-466d-bcf2-b3b1e9fd608e",
   "metadata": {
    "jp-MarkdownHeadingCollapsed": true
   },
   "source": [
    "#### Bangkok Q3"
   ]
  },
  {
   "cell_type": "code",
   "execution_count": 231,
   "id": "228025f1-d6a5-43d2-8af4-f64d652ab78c",
   "metadata": {},
   "outputs": [],
   "source": [
    "numeric_features = Bangkok_Q3_cleaned.select_dtypes(include=[np.number]).columns.tolist()\n",
    "features = [col for col in numeric_features if col not in [\"id\", \"price\"]]\n",
    "Bangkok_Q3_cleaned[features] = Bangkok_Q3_cleaned[features].astype(float)\n",
    "scaler = StandardScaler()\n",
    "Bangkok_Q3_cleaned[features] = scaler.fit_transform(Bangkok_Q3_cleaned[features])"
   ]
  },
  {
   "cell_type": "code",
   "execution_count": 235,
   "id": "46716d26-bd26-415d-9d18-deee318277d7",
   "metadata": {},
   "outputs": [],
   "source": [
    "X_Bangkok_Q3 = Bangkok_Q3_cleaned[features]\n",
    "y_Bangkok_Q3 = Bangkok_Q3_cleaned[\"price\"].fillna(Bangkok_Q3_cleaned[\"price\"].median())\n",
    "\n",
    "X_train_Bangkok_Q3, X_test_Bangkok_Q3, y_train_Bangkok_Q3, y_test_Bangkok_Q3 = train_test_split(\n",
    "    X_Bangkok_Q3, y_Bangkok_Q3, test_size=0.2, random_state=42)\n",
    "\n",
    "X_train_Bangkok_Q3.fillna(X_train_Bangkok_Q3.median(), inplace=True)\n",
    "X_test_Bangkok_Q3.fillna(X_test_Bangkok_Q3.median(), inplace=True)"
   ]
  },
  {
   "cell_type": "code",
   "execution_count": 239,
   "id": "895824b3-852d-484d-b079-dff402a6646d",
   "metadata": {},
   "outputs": [],
   "source": [
    "def get_rmse_Bangkok_Q3(actual_Bangkok_Q3, pred_Bangkok_Q3):\n",
    "    return np.sqrt(mean_squared_error(actual_Bangkok_Q3, pred_Bangkok_Q3))\n",
    "\n",
    "def cross_val_rmse_Bangkok_Q3(model, X_Bangkok_Q3, y_Bangkok_Q3, k=5):\n",
    "    kf_Bangkok_Q3 = KFold(n_splits=k, shuffle=True, random_state=42)\n",
    "    mse_scores_Bangkok_Q3 = cross_val_score(\n",
    "        model, \n",
    "        X_Bangkok_Q3, \n",
    "        y_Bangkok_Q3, \n",
    "        scoring='neg_mean_squared_error', \n",
    "        cv=kf_Bangkok_Q3)\n",
    "    return np.sqrt(-mse_scores_Bangkok_Q3.mean())"
   ]
  },
  {
   "cell_type": "code",
   "execution_count": 247,
   "id": "f389785e-8439-44ab-83e5-defaf2993f2e",
   "metadata": {},
   "outputs": [
    {
     "name": "stdout",
     "output_type": "stream",
     "text": [
      "Horserace Table: Model Performance Comparison for Bangkok_Q3\n",
      "               Model      RMSE   CV-RMSE  R2 Score  Training Time\n",
      "4            XGBoost  0.407858  0.438077  0.644460       0.558937\n",
      "2      Random Forest  0.416754  0.455434  0.628781      15.529873\n",
      "3  Gradient Boosting  0.462444  0.466051  0.542923      10.741697\n",
      "0                OLS  0.568486  0.552513  0.309267       0.043091\n",
      "1              LASSO  0.572417  0.554504  0.299680       0.068877\n"
     ]
    }
   ],
   "source": [
    "results_df_Bangkok_Q3 = evaluate_models(models, X_train_Bangkok_Q3, X_test_Bangkok_Q3, \n",
    "                                        y_train_Bangkok_Q3, y_test_Bangkok_Q3, X_Bangkok_Q3, y_Bangkok_Q3)\n",
    "\n",
    "print(\"Horserace Table: Model Performance Comparison for Bangkok_Q3\")\n",
    "print(results_df_Bangkok_Q3)"
   ]
  },
  {
   "cell_type": "markdown",
   "id": "c9cd03af-5a53-4850-b1ef-7be70eb4847b",
   "metadata": {
    "jp-MarkdownHeadingCollapsed": true
   },
   "source": [
    "#### Comparison of the 3 Datasets"
   ]
  },
  {
   "cell_type": "code",
   "execution_count": 278,
   "id": "c248d4ee-a973-4277-b7f0-9943505ae13f",
   "metadata": {},
   "outputs": [
    {
     "data": {
      "text/html": [
       "<div>\n",
       "<style scoped>\n",
       "    .dataframe tbody tr th:only-of-type {\n",
       "        vertical-align: middle;\n",
       "    }\n",
       "\n",
       "    .dataframe tbody tr th {\n",
       "        vertical-align: top;\n",
       "    }\n",
       "\n",
       "    .dataframe thead tr th {\n",
       "        text-align: left;\n",
       "    }\n",
       "\n",
       "    .dataframe thead tr:last-of-type th {\n",
       "        text-align: right;\n",
       "    }\n",
       "</style>\n",
       "<table border=\"1\" class=\"dataframe\">\n",
       "  <thead>\n",
       "    <tr>\n",
       "      <th></th>\n",
       "      <th colspan=\"3\" halign=\"left\">RMSE</th>\n",
       "      <th colspan=\"3\" halign=\"left\">CV-RMSE</th>\n",
       "      <th colspan=\"3\" halign=\"left\">R2 Score</th>\n",
       "      <th colspan=\"3\" halign=\"left\">Training Time</th>\n",
       "    </tr>\n",
       "    <tr>\n",
       "      <th>Dataset</th>\n",
       "      <th>Bangkok_Q3</th>\n",
       "      <th>Original</th>\n",
       "      <th>Tokyo_Q4</th>\n",
       "      <th>Bangkok_Q3</th>\n",
       "      <th>Original</th>\n",
       "      <th>Tokyo_Q4</th>\n",
       "      <th>Bangkok_Q3</th>\n",
       "      <th>Original</th>\n",
       "      <th>Tokyo_Q4</th>\n",
       "      <th>Bangkok_Q3</th>\n",
       "      <th>Original</th>\n",
       "      <th>Tokyo_Q4</th>\n",
       "    </tr>\n",
       "    <tr>\n",
       "      <th>Model</th>\n",
       "      <th></th>\n",
       "      <th></th>\n",
       "      <th></th>\n",
       "      <th></th>\n",
       "      <th></th>\n",
       "      <th></th>\n",
       "      <th></th>\n",
       "      <th></th>\n",
       "      <th></th>\n",
       "      <th></th>\n",
       "      <th></th>\n",
       "      <th></th>\n",
       "    </tr>\n",
       "  </thead>\n",
       "  <tbody>\n",
       "    <tr>\n",
       "      <th>Gradient Boosting</th>\n",
       "      <td>0.462444</td>\n",
       "      <td>0.367575</td>\n",
       "      <td>0.434038</td>\n",
       "      <td>0.466051</td>\n",
       "      <td>0.388487</td>\n",
       "      <td>0.443611</td>\n",
       "      <td>0.542923</td>\n",
       "      <td>0.654890</td>\n",
       "      <td>0.570001</td>\n",
       "      <td>10.741697</td>\n",
       "      <td>9.454523</td>\n",
       "      <td>10.021417</td>\n",
       "    </tr>\n",
       "    <tr>\n",
       "      <th>LASSO</th>\n",
       "      <td>0.572417</td>\n",
       "      <td>0.451822</td>\n",
       "      <td>0.497970</td>\n",
       "      <td>0.554504</td>\n",
       "      <td>0.466746</td>\n",
       "      <td>0.494033</td>\n",
       "      <td>0.299680</td>\n",
       "      <td>0.478565</td>\n",
       "      <td>0.433998</td>\n",
       "      <td>0.068877</td>\n",
       "      <td>0.017134</td>\n",
       "      <td>0.015461</td>\n",
       "    </tr>\n",
       "    <tr>\n",
       "      <th>OLS</th>\n",
       "      <td>0.568486</td>\n",
       "      <td>0.441133</td>\n",
       "      <td>0.492036</td>\n",
       "      <td>0.552513</td>\n",
       "      <td>0.459227</td>\n",
       "      <td>0.493609</td>\n",
       "      <td>0.309267</td>\n",
       "      <td>0.502945</td>\n",
       "      <td>0.447406</td>\n",
       "      <td>0.043091</td>\n",
       "      <td>0.025872</td>\n",
       "      <td>0.030289</td>\n",
       "    </tr>\n",
       "    <tr>\n",
       "      <th>Random Forest</th>\n",
       "      <td>0.416754</td>\n",
       "      <td>0.330408</td>\n",
       "      <td>0.379098</td>\n",
       "      <td>0.455434</td>\n",
       "      <td>0.388508</td>\n",
       "      <td>0.440083</td>\n",
       "      <td>0.628781</td>\n",
       "      <td>0.721153</td>\n",
       "      <td>0.671968</td>\n",
       "      <td>15.529873</td>\n",
       "      <td>12.168352</td>\n",
       "      <td>13.169984</td>\n",
       "    </tr>\n",
       "    <tr>\n",
       "      <th>XGBoost</th>\n",
       "      <td>0.407858</td>\n",
       "      <td>0.321037</td>\n",
       "      <td>0.384353</td>\n",
       "      <td>0.438077</td>\n",
       "      <td>0.367360</td>\n",
       "      <td>0.424673</td>\n",
       "      <td>0.644460</td>\n",
       "      <td>0.736746</td>\n",
       "      <td>0.662811</td>\n",
       "      <td>0.558937</td>\n",
       "      <td>1.009687</td>\n",
       "      <td>0.507627</td>\n",
       "    </tr>\n",
       "  </tbody>\n",
       "</table>\n",
       "</div>"
      ],
      "text/plain": [
       "                        RMSE                        CV-RMSE            \\\n",
       "Dataset           Bangkok_Q3  Original  Tokyo_Q4 Bangkok_Q3  Original   \n",
       "Model                                                                   \n",
       "Gradient Boosting   0.462444  0.367575  0.434038   0.466051  0.388487   \n",
       "LASSO               0.572417  0.451822  0.497970   0.554504  0.466746   \n",
       "OLS                 0.568486  0.441133  0.492036   0.552513  0.459227   \n",
       "Random Forest       0.416754  0.330408  0.379098   0.455434  0.388508   \n",
       "XGBoost             0.407858  0.321037  0.384353   0.438077  0.367360   \n",
       "\n",
       "                              R2 Score                     Training Time  \\\n",
       "Dataset            Tokyo_Q4 Bangkok_Q3  Original  Tokyo_Q4    Bangkok_Q3   \n",
       "Model                                                                      \n",
       "Gradient Boosting  0.443611   0.542923  0.654890  0.570001     10.741697   \n",
       "LASSO              0.494033   0.299680  0.478565  0.433998      0.068877   \n",
       "OLS                0.493609   0.309267  0.502945  0.447406      0.043091   \n",
       "Random Forest      0.440083   0.628781  0.721153  0.671968     15.529873   \n",
       "XGBoost            0.424673   0.644460  0.736746  0.662811      0.558937   \n",
       "\n",
       "                                         \n",
       "Dataset             Original   Tokyo_Q4  \n",
       "Model                                    \n",
       "Gradient Boosting   9.454523  10.021417  \n",
       "LASSO               0.017134   0.015461  \n",
       "OLS                 0.025872   0.030289  \n",
       "Random Forest      12.168352  13.169984  \n",
       "XGBoost             1.009687   0.507627  "
      ]
     },
     "metadata": {},
     "output_type": "display_data"
    },
    {
     "name": "stdout",
     "output_type": "stream",
     "text": [
      "                        RMSE                        CV-RMSE            \\\n",
      "Dataset           Bangkok_Q3  Original  Tokyo_Q4 Bangkok_Q3  Original   \n",
      "Model                                                                   \n",
      "Gradient Boosting   0.462444  0.367575  0.434038   0.466051  0.388487   \n",
      "LASSO               0.572417  0.451822  0.497970   0.554504  0.466746   \n",
      "OLS                 0.568486  0.441133  0.492036   0.552513  0.459227   \n",
      "Random Forest       0.416754  0.330408  0.379098   0.455434  0.388508   \n",
      "XGBoost             0.407858  0.321037  0.384353   0.438077  0.367360   \n",
      "\n",
      "                              R2 Score                     Training Time  \\\n",
      "Dataset            Tokyo_Q4 Bangkok_Q3  Original  Tokyo_Q4    Bangkok_Q3   \n",
      "Model                                                                      \n",
      "Gradient Boosting  0.443611   0.542923  0.654890  0.570001     10.741697   \n",
      "LASSO              0.494033   0.299680  0.478565  0.433998      0.068877   \n",
      "OLS                0.493609   0.309267  0.502945  0.447406      0.043091   \n",
      "Random Forest      0.440083   0.628781  0.721153  0.671968     15.529873   \n",
      "XGBoost            0.424673   0.644460  0.736746  0.662811      0.558937   \n",
      "\n",
      "                                         \n",
      "Dataset             Original   Tokyo_Q4  \n",
      "Model                                    \n",
      "Gradient Boosting   9.454523  10.021417  \n",
      "LASSO               0.017134   0.015461  \n",
      "OLS                 0.025872   0.030289  \n",
      "Random Forest      12.168352  13.169984  \n",
      "XGBoost             1.009687   0.507627  \n"
     ]
    }
   ],
   "source": [
    "results_df[\"Dataset\"] = \"Original\"\n",
    "results_df_Tokyo_Q4[\"Dataset\"] = \"Tokyo_Q4\"\n",
    "results_df_Bangkok_Q3[\"Dataset\"] = \"Bangkok_Q3\"\n",
    "\n",
    "combined_results = pd.concat([results_df, results_df_Tokyo_Q4, results_df_Bangkok_Q3], ignore_index=True)\n",
    "combined_results = combined_results.pivot(index=\"Model\", columns=\"Dataset\")\n",
    "\n",
    "display(combined_results)\n",
    "print(combined_results)"
   ]
  },
  {
   "cell_type": "code",
   "execution_count": null,
   "id": "f0b1a8aa-c0a7-4421-80c6-d8b0f4f158d9",
   "metadata": {},
   "outputs": [],
   "source": []
  }
 ],
 "metadata": {
  "kernelspec": {
   "display_name": "Python 3 (ipykernel)",
   "language": "python",
   "name": "python3"
  },
  "language_info": {
   "codemirror_mode": {
    "name": "ipython",
    "version": 3
   },
   "file_extension": ".py",
   "mimetype": "text/x-python",
   "name": "python",
   "nbconvert_exporter": "python",
   "pygments_lexer": "ipython3",
   "version": "3.12.4"
  }
 },
 "nbformat": 4,
 "nbformat_minor": 5
}
