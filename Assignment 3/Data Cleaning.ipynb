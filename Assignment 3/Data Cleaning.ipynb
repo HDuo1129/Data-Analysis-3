{
 "cells": [
  {
   "cell_type": "code",
   "execution_count": 3,
   "id": "e8c31a51-566f-4733-986a-dd0a2de77777",
   "metadata": {},
   "outputs": [],
   "source": [
    "import pandas as pd\n",
    "import numpy as np\n",
    "\n",
    "df = pd.read_csv(\"cs_bisnode_panel.csv\")\n",
    "\n",
    "df = df[(df[\"year\"] >= 2010) & (df[\"year\"] <= 2015)].copy()\n",
    "\n",
    "# Sales Data\n",
    "df[\"sales\"] = df[\"sales\"].clip(lower=1)\n",
    "df[\"sales_mil\"] = df[\"sales\"] / 1_000_000\n",
    "df[\"sales_mil_log\"] = np.log(df[\"sales_mil\"])\n",
    "df[\"sales_mil_log_sq\"] = df[\"sales_mil_log\"] ** 2\n",
    "\n",
    "# New Company\n",
    "df[\"age\"] = (df[\"year\"] - df[\"founded_year\"]).clip(lower=0)\n",
    "df[\"new\"] = ((df[\"age\"] <= 1) | (df[\"balsheet_notfullyear\"] == 1)).astype(int)\n",
    "\n",
    "# Increase Rate\n",
    "df = df.sort_values([\"comp_id\", \"year\"])\n",
    "df[\"d1_sales_mil_log\"] = df.groupby(\"comp_id\")[\"sales_mil_log\"].diff().fillna(0)\n",
    "df[\"d1_sales_mil_log_mod\"] = np.where(df[\"new\"] == 1, 0, df[\"d1_sales_mil_log\"])\n",
    "\n",
    "# Sales Growth\n",
    "sales_pivot = df.pivot(index=\"comp_id\", columns=\"year\", values=\"sales_mil_log\")\n",
    "sales_pivot[\"sales_growth_5y\"] = sales_pivot[2015] - sales_pivot[2010]\n",
    "growth = sales_pivot[[\"sales_growth_5y\"]].dropna().reset_index()\n",
    "\n",
    "# Fast Growth\n",
    "threshold = growth[\"sales_growth_5y\"].quantile(0.8)\n",
    "growth[\"fast_growth\"] = (growth[\"sales_growth_5y\"] >= threshold).astype(int)\n",
    "\n",
    "df = df.merge(growth, on=\"comp_id\", how=\"left\")\n",
    "drop_vars = [\n",
    "    \"address\", \"zip\", \"county_code\", \"founded_year\", \"sales\", \"balsheet_length\",\n",
    "    \"balsheet_notfullyear\", \"comp_name\", \"id\", \"status_alive\", \"exit_year\",\n",
    "    \"exit\", \"death_year\", \"death_code\", \"begin\", \"end\", \"COGS\"\n",
    "]\n",
    "df.drop(columns=[col for col in drop_vars if col in df.columns], inplace=True)\n",
    "\n",
    "X = df[df[\"year\"] == 2014].copy()\n",
    "y = df[df[\"year\"] == 2015][[\"comp_id\", \"fast_growth\"]].copy()\n",
    "model_df = X.merge(y, on=\"comp_id\", how=\"inner\", suffixes=('', '_label'))\n",
    "\n",
    "df.to_csv(\"bisnode_panel_2010_2015_full_cleaned.csv\", index=False)\n",
    "model_df.to_csv(\"bisnode_model_2014_predict_2015_cleaned.csv\", index=False)"
   ]
  }
 ],
 "metadata": {
  "kernelspec": {
   "display_name": "Python 3 (ipykernel)",
   "language": "python",
   "name": "python3"
  },
  "language_info": {
   "codemirror_mode": {
    "name": "ipython",
    "version": 3
   },
   "file_extension": ".py",
   "mimetype": "text/x-python",
   "name": "python",
   "nbconvert_exporter": "python",
   "pygments_lexer": "ipython3",
   "version": "3.12.4"
  }
 },
 "nbformat": 4,
 "nbformat_minor": 5
}
